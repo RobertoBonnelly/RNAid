{
 "cells": [
  {
   "cell_type": "code",
   "execution_count": 1,
   "metadata": {},
   "outputs": [],
   "source": [
    "#!/usr/bin/env python\n",
    "'''Project: Towards the development of a simple fingerprint representation for\n",
    "the efficient comparison and clustering of large datasets of RNA sequences\n",
    "By: Abdulvahab Kharadi\n",
    "First supervisor Name: Irilenia Nobeli\n",
    "Date: 01/06/20\n",
    "version: v2.0.0'''\n",
    "\n",
    "# importing required module\n",
    "from sys import argv\n",
    "import cgi\n",
    "#import cgitb\n",
    "import hashlib\n",
    "import re\n",
    "import os\n",
    "#cgitb.enable()\n",
    "\n",
    "def get_data(temp_out = 'temp.out'):\n",
    "    refine_data = []\n",
    "    with open (temp_out, 'r') as f:\n",
    "        lines = f.read().splitlines()\n",
    "        #print(lines)\n",
    "        if lines:     \n",
    "            seq_name = lines.pop(0)\n",
    "        #print(seq_name)\n",
    "            seq_name=re.sub(\".fa\\s\\sFORWARD\",\"\",re.sub(\">\",\"\",seq_name))\n",
    "       \n",
    "        #seq_name=re.sub(\".fa\\s\\sFORWARD\",\"\",seq_name)\n",
    "        #print(seq_name)\n",
    "        #s = re.match('^(\\>)(\\w+\\.\\w+\\.*)(\\.fa.+)',seq_name)\n",
    "        #seq_name = s.groups(0)\n",
    "            data = [line.split() for line in lines]\n",
    "            refine_data = [d for d in data if d[0] != 'None' and float(d[0]) < 0]\n",
    "            return seq_name, refine_data\n",
    "\n",
    "def process_fa(temp_fa, temp_out=\"temp.out\"):\n",
    "        os.system(\"transterm/2ndscore --no-rvs {} > {}\".format(temp_fa, temp_out))\n",
    "        #os.system(\"rm {}\".format(temp_out))\n",
    "\n",
    "def palindromes(data):\n",
    "    '''This function take data from a file and return a list of palindromes.\n",
    "    Each palindrome represented by a four cordinate, two for left steam and two for right steam'''\n",
    "    palindrome= []\n",
    "    for i in range(1,len(data)):\n",
    "        word = data[i]\n",
    "        energy = float(word[0])\n",
    "        start = int(word[1])\n",
    "        lsteam = re.sub('-','',word[5])           #Left steam of a pallindrome,cleaning data\n",
    "        rsteam = re.sub('-','',word[7])           #Right steam of a pallindrome,cleaning data\n",
    "        loop = word[6]\n",
    "        length = int(word[3])\n",
    "        p = [start,start+len(lsteam)-1,length-len(rsteam)+1,length]\n",
    "        palindrome.append(p)\n",
    "    return sorted(palindrome)                     # sorting list accrding to start position"
   ]
  },
  {
   "cell_type": "code",
   "execution_count": 2,
   "metadata": {},
   "outputs": [],
   "source": [
    "def relation(p1,p2):\n",
    "    '''This function take list of palindromes and return relationship between two palindromes in form of a Letter.\n",
    "    Where O=overlapping,S=serial,X=exclusive,I=Included'''\n",
    "    if p1[1] < p2[0] and p1[2] > p2[1] and p1[3] < p2[2]:\n",
    "        return 'O'\n",
    "    elif p1[1]<p2[0] and p1[2] > p2[3] :\n",
    "        return 'I'\n",
    "    elif p1[3] < p2[0]:\n",
    "        return 'S'\n",
    "    else:\n",
    "        return 'X'"
   ]
  },
  {
   "cell_type": "code",
   "execution_count": 3,
   "metadata": {},
   "outputs": [],
   "source": [
    "def pgraph(palindrome):\n",
    "    '''This function give graph from each pallindrome (consider as Node) to another pallindrome.\n",
    "    There is no path between pallindrome having Exclusive(X) relation.\n",
    "    Rerurns dictionary which has Node as key and list of paths from that node as list'''\n",
    "    #palindrome = palindromes()\n",
    "    #print(len(palindrome))\n",
    "    graph = {}\n",
    "    for i in range(len(palindrome)):\n",
    "        path = []\n",
    "        for j in range(i,len(palindrome)):\n",
    "            r = relation(palindrome[i],palindrome[j])\n",
    "            if r != 'X':\n",
    "                path.append(j)\n",
    "                graph[i] = path\n",
    "            else:\n",
    "                graph[i] = path\n",
    "    print(graph)\n",
    "    return graph"
   ]
  },
  {
   "cell_type": "code",
   "execution_count": 4,
   "metadata": {},
   "outputs": [],
   "source": [
    "def path(graph,start,p=[]):\n",
    "    '''This function give complete paths from each pallindrome'''\n",
    "    p = p + [start]\n",
    "    if graph[start] == []:\n",
    "        return [p]\n",
    "    paths = []\n",
    "    for node in graph[start]:\n",
    "        if node not in p:\n",
    "            new_paths = path(graph,node,p)\n",
    "            for new_path in new_paths:\n",
    "                paths.append(new_path)\n",
    "    return paths"
   ]
  },
  {
   "cell_type": "code",
   "execution_count": 5,
   "metadata": {},
   "outputs": [],
   "source": [
    "def dag(paths):\n",
    "    for p in sorted(paths):\n",
    "        for j in range(len(paths)-1):\n",
    "            if set(p) < set(paths[j]):\n",
    "                try:\n",
    "                    paths.remove(p)\n",
    "                    #da_graph = paths\n",
    "                except:\n",
    "                    next\n",
    "                    continue\n",
    "    return max(paths, key=len)"
   ]
  },
  {
   "cell_type": "code",
   "execution_count": 6,
   "metadata": {},
   "outputs": [],
   "source": [
    "def fingerprint(da_graph,palindrome):\n",
    "    '''This function provides a fingerprint for path from each node. We use hashlib to convert\n",
    "    character presenting relation into a hash number'''\n",
    "    paths_fingerprint = []\n",
    "    i =0\n",
    "    fp = ''\n",
    "    while i<len(da_graph)-1:\n",
    "        fp += relation(palindrome[i],palindrome[i+1])\n",
    "        i += 1\n",
    "    bfp = fp.encode('utf-8')                            #turn string into byte string\n",
    "    hfp = hashlib.sha256(bfp)                           #turn bytes into hash object\n",
    "    index= int(hfp.hexdigest(), 16) % 10**3\n",
    "    paths_fingerprint.append(index)\n",
    "    return paths_fingerprint"
   ]
  },
  {
   "cell_type": "code",
   "execution_count": 7,
   "metadata": {},
   "outputs": [],
   "source": [
    "def tanimoto(s1, s2):\n",
    "    s12 = set(s1).intersection(set(s2))\n",
    "    tan = len(s12)/(len(s1) + len(s2) - len(s12))\n",
    "    return tan"
   ]
  },
  {
   "cell_type": "code",
   "execution_count": 8,
   "metadata": {},
   "outputs": [],
   "source": [
    "def accuracy(tan):\n",
    "    if tan >= 0.8 :\n",
    "        return tan80\n",
    "    elif tan >= 0.6 and tan < 0.8:\n",
    "        return tan60\n",
    "    elif tan >= 0.4 and tan < 0.6:\n",
    "        return tan40\n",
    "    elif tan >= 0.2 and tan < 0.4:\n",
    "        return tan20\n",
    "    else:\n",
    "        return tanbad"
   ]
  },
  {
   "cell_type": "code",
   "execution_count": 9,
   "metadata": {},
   "outputs": [],
   "source": [
    "def run(filename=argv[1],result= {}):\n",
    "    with open (filename,'r') as f:\n",
    "        sequences = f.read().splitlines()\n",
    "    i = 0\n",
    "    while i < len(sequences):\n",
    "        deal_single_seq(sequences,i)\n",
    "        (seq_name, refine_data) = get_data()\n",
    "        palindrome = palindromes(refine_data)\n",
    "        graph = pgraph(palindrome)\n",
    "        paths = path(graph,0)\n",
    "        da_graph = dag(paths)\n",
    "        paths_fingerprint = fingerprint(da_graph,palindrome)\n",
    "        result[seq_name] = paths_fingerprint\n",
    "        i += 2\n",
    "    return result"
   ]
  },
  {
   "cell_type": "code",
   "execution_count": 10,
   "metadata": {},
   "outputs": [],
   "source": [
    "def run_new(dir,result={}):\n",
    "    for file in os.listdir(dir):\n",
    "        temp_fa=f'{dir}/{file}'\n",
    "        process_fa(temp_fa)\n",
    "        (seq_name, refine_data) = get_data()\n",
    "        print(\"1st and 2nd task completed: data_mining model\")\n",
    "        palindrome = palindromes(refine_data)\n",
    "        print(\"palindrome function completed\")\n",
    "        graph = pgraph(palindrome)\n",
    "        '''graph = {0:[1,2,3,7,9],\n",
    "                1:[4,7],\n",
    "                2:[4,5,8],\n",
    "                3:[8],\n",
    "                4:[],\n",
    "                5:[8],\n",
    "                6:[],\n",
    "                7:[],\n",
    "                8:[],\n",
    "                9:[]}'''\n",
    "        print(\"graph function completed\")\n",
    "        paths = path(graph,0)\n",
    "        print(\"paths generated\")\n",
    "        da_graph = dag(paths)\n",
    "        print(\"dag completed\")\n",
    "        paths_fingerprint = fingerprint(da_graph,palindrome)\n",
    "        result[seq_name] = paths_fingerprint\n",
    "        print(\"fingerprint generated\")\n",
    "    return result"
   ]
  },
  {
   "cell_type": "code",
   "execution_count": 11,
   "metadata": {},
   "outputs": [
    {
     "name": "stdout",
     "output_type": "stream",
     "text": [
      "[' 3.9       1 ..      11   xxxxxxxxxxxxxxx                -ATG AAAG CATT                 CTGGCGTAACGCCGC', ' 3.9       2 ..      12   xxxxxxxxxxxxxxA                TGAA AGCA TTC-                 TGGCGTAACGCCGCG', ' 1.4       2 ..      13   xxxxxxxxxxxxxxA                TGAA AGCA TTCT                 GGCGTAACGCCGCGT', ' 4.9       1 ..      14   xxxxxxxxxxxxxxx               ATGAA AGCA TTCTG                GCGTAACGCCGCGTT', ' 5.8       4 ..      15   xxxxxxxxxxxxATG                AAAG CATT CTGG                 CGTAACGCCGCGTTG', ' 3.5       3 ..      16   xxxxxxxxxxxxxAT               GAAAG CATT CTGGC                GTAACGCCGCGTTGC', ' 2.9       6 ..      17   xxxxxxxxxxATGAA                AGC ATTCTG GCG                 TAACGCCGCGTTGCT', '   2       5 ..      18   xxxxxxxxxxxATGA               AAGC ATTCTG GCGT                AACGCCGCGTTGCTC', ' 5.5       4 ..      19   xxxxxxxxxxxxATG              AAAGC ATTCTG GCGTA               ACGCCGCGTTGCTCG', ' 3.2      10 ..      20   xxxxxxATGAAAGCA                 TT CTGGCGT AA                 CGCCGCGTTGCTCGC', ' 6.7       9 ..      21   xxxxxxxATGAAAGC                ATT CTGGCGT AAC                GCCGCGTTGCTCGCG', ' 4.4       8 ..      22   xxxxxxxxATGAAAG               CATT CTGGCGT AACG               CCGCGTTGCTCGCGG', ' 2.1       7 ..      23   xxxxxxxxxATGAAA              GCATT CTGGCGT AACGC              CGCGTTGCTCGCGGT', '-8.2      14 ..      24   xxATGAAAGCATTCT                 GGCG TAA CGCC                 GCGTTGCTCGCGGTT', '-6.9      13 ..      25   xxxATGAAAGCATTC                TGGCG TAA CGCCG                CGTTGCTCGCGGTTT', '-3.4      12 ..      26   xxxxATGAAAGCATT               CTGGCG TAA CGCCGC               GTTGCTCGCGGTTTC', '-3.2      12 ..      27   xxxxATGAAAGCATT              C-TGGCG TAA CGCCGCG              TTGCTCGCGGTTTCT', '-0.6       9 ..      28   xxxxxxxATGAAAGC            ATTCTGGCG TAA CGCC-GCGT            TGCTCGCGGTTTCTC', '-5.4      19 ..      29   AAAGCATTCTGGCGT                 AACG CCG CGTT                 GCTCGCGGTTTCTCT', '-4.1      18 ..      30   GAAAGCATTCTGGCG                TAACG CCG CGTTG                CTCGCGGTTTCTCTG', '-6.4      17 ..      31   TGAAAGCATTCTGGC               GTAACG CCG CGTTGC               TCGCGGTTTCTCTGC', '  -5       6 ..      32   xxxxxxxxxxATGAA         AGCATTCTGGCG TAA CGCCGCGTTGCT         CGCGGTTTCTCTGCT', '-5.2      15 ..      33   xATGAAAGCATTCTG             GCGTAACG CCG CGTTGCTC             GCGGTTTCTCTGCTT', '-2.4      24 ..      34   ATTCTGGCGTAACGC                 CGCG TTG CTCG                 CGGTTTCTCTGCTTC', '-3.9      25 ..      35   TTCTGGCGTAACGCC                 GCG TTGCT CGC                 GGTTTCTCTGCTTCC', '-6.2      24 ..      36   ATTCTGGCGTAACGC                CGCG TTGCT CGCG                GTTTCTCTGCTTCCC', '-8.5      23 ..      37   CATTCTGGCGTAACG               CCGCG TTGCT CGCGG               TTTCTCTGCTTCCCT', '-7.2      22 ..      38   GCATTCTGGCGTAAC              GCCGCG TTGCT CGCGGT              TTCTCTGCTTCCCTT', '-3.7      21 ..      39   AGCATTCTGGCGTAA             CGCCGCG TTGCT CGCGGTT             TCTCTGCTTCCCTTC', '-4.6      20 ..      40   AAGCATTCTGGCGTA            ACGCCGCG TTGCT CGCGGTTT            CTCTGCTTCCCTTCT', '-1.1      19 ..      41   AAAGCATTCTGGCGT           AACGCCGCG TTGCT CGCGGTTTC           TCTGCTTCCCTTCTC', ' 0.5      19 ..      42   AAAGCATTCTGGCGT          A-ACGCCGCG TTGCT CGCGGTTTCT          CTGCTTCCCTTCTCT', ' 0.1      17 ..      43   TGAAAGCATTCTGGC         GTAACGCCGCG TTGCT CGCGGTTTCTC         TGCTTCCCTTCTCTT', ' 3.2      14 ..      44   xxATGAAAGCATTCT      GGCGTAACGCCGCG TTGCT CGCGGT-TT-CTCT      GCTTCCCTTCTCTTC', '-0.3      35 ..      45   ACGCCGCGTTGCTCG                 CGG TTTCT CTG                 CTTCCCTTCTCTTCT', '-2.6      34 ..      46   AACGCCGCGTTGCTC                GCGG TTTCT CTGC                TTCCCTTCTCTTCTG', ' 0.9      33 ..      47   TAACGCCGCGTTGCT               CGCGG TTTCT CTGCT               TCCCTTCTCTTCTGC', ' 4.4      32 ..      48   GTAACGCCGCGTTGC              TCGCGG TTTCT CTGCTT              CCCTTCTCTTCTGCC', ' 5.5      34 ..      49   AACGCCGCGTTGCTC              GCGGT TTCTCT GCTTC               CCTTCTCTTCTGCCA', ' 4.4      36 ..      50   CGCCGCGTTGCTCGC               GG TTTCTCTGCTT CC               CTTCTCTTCTGCCAA', ' 5.4      36 ..      51   CGCCGCGTTGCTCGC              GG TTTCTCTGCTTC CC               TTCTCTTCTGCCAAC', ' 8.9      35 ..      52   ACGCCGCGTTGCTCG             CGG TTTCTCTGCTTC CCT              TCTCTTCTGCCAACG', ' 7.7      43 ..      53   TTGCTCGCGGTTTCT                 CTG CTTCC CTT                 CTCTTCTGCCAACGC', 'None      44 ..      54   TGCTCGCGGTTTCTC                  TGCTTCCCTTC                  TCTTCTGCCAACGCC', ' 7.2      44 ..      55   TGCTCGCGGTTTCTC                TG CTTCCCTT CT                 CTTCTGCCAACGCCT', ' 5.7      45 ..      56   GCTCGCGGTTTCTCT                G CTTCCCTTCT C                 TTCTGCCAACGCCTx', 'None      47 ..      57   TCGCGGTTTCTCTGC                  TTCCCTTCTCT                  TCTGCCAACGCCTxx', 'None      48 ..      58   CGCGGTTTCTCTGCT                  TCCCTTCTCTT                  CTGCCAACGCCTxxx', ' 8.7      45 ..      59   GCTCGCGGTTTCTCT               G CTTCCCTTCTCTT C               TGCCAACGCCTxxxx', 'None      50 ..      60   CGGTTTCTCTGCTTC                  CCTTCTCTTCT                  GCCAACGCCTxxxxx', ' 4.7      51 ..      61   GGTTTCTCTGCTTCC                 C TTCTCTTCT G                 CCAACGCCTxxxxxx', ' 8.2      50 ..      62   CGGTTTCTCTGCTTC                CC TTCTCTTCT GC                CAACGCCTxxxxxxx', ' 8.7      52 ..      63   GTTTCTCTGCTTCCC                TTC TCTTCT GCC                 AACGCCTxxxxxxxx', ' 5.8      53 ..      64   TTTCTCTGCTTCCCT                TCTC TTCT GCCA                 ACGCCTxxxxxxxxx', ' 4.9      52 ..      65   GTTTCTCTGCTTCCC               TTCTC TTCT GCCAA                CGCCTxxxxxxxxxx', ' 4.7      56 ..      66   CTCTGCTTCCCTTCT                 CTT CTGCC AAC                 GCCTxxxxxxxxxxx', ' 4.3      56 ..      67   CTCTGCTTCCCTTCT                CTT CTGCCA ACG                 CCTxxxxxxxxxxxx', ' 6.2      58 ..      68   CTGCTTCCCTTCTCT                 TC TGCCAAC GC                 CTxxxxxxxxxxxxx', ' 6.9      59 ..      69   TGCTTCCCTTCTCTT                CTGC CAAC GCC-                 Txxxxxxxxxxxxxx']\n"
     ]
    }
   ],
   "source": [
    "path = r\"C:\\Users\\rober\\OneDrive\\Desktop\\MSc_Bioinformatics\\Thesis\\RNAid-develop\\RNAid-develop\\hairpins_noreverse.out\"\n",
    "f = open(r\"C:\\Users\\rober\\OneDrive\\Desktop\\MSc_Bioinformatics\\Thesis\\RNAid-develop\\RNAid-develop\\hairpins_noreverse.out\", 'r')\n",
    "linesss = f.read().splitlines()\n",
    "linesss.pop(0)\n",
    "print(linesss)\n",
    "# my_lines = [line.split() for line in linesss]\n",
    "# print(my_lines)"
   ]
  },
  {
   "cell_type": "code",
   "execution_count": null,
   "metadata": {},
   "outputs": [],
   "source": []
  },
  {
   "cell_type": "code",
   "execution_count": 12,
   "metadata": {},
   "outputs": [],
   "source": [
    "def process_fa(temp_fa, temp_out):\n",
    "        os.system(\"../transterm/2ndscore --no-rvs {} > {}\".format(temp_fa, temp_out))\n",
    "        #os.system(\"rm {}\".format(temp_out))\n",
    "process_fa('./hairpins.fna', './my_hairpins.txt')"
   ]
  },
  {
   "cell_type": "code",
   "execution_count": 29,
   "metadata": {},
   "outputs": [
    {
     "name": "stdout",
     "output_type": "stream",
     "text": [
      "NC_000913.3:c645003-644197 rna [organism=Escherichia coli str. K-12 substr. MG1655] [GeneID=949065] [chromosome=] FORWARD\n"
     ]
    }
   ],
   "source": [
    "def get_data(temp_out):\n",
    "    ## empty list\n",
    "    refine_data = []\n",
    "    ## opening hairpins.out file obtained\n",
    "    ## from 2ndscore\n",
    "    with open (temp_out, 'r') as f:\n",
    "        ## creating list off each line in .out file\n",
    "        lines = f.read().splitlines()\n",
    "        #print(lines)\n",
    "        ## extracting first line which corresponds\n",
    "        ## to identifier of the sequence\n",
    "        if lines:     \n",
    "            seq_name = lines.pop(0)\n",
    "            #print(seq_name)\n",
    "        ## eliminating the fasta identifier '>'\n",
    "            seq_name=re.sub(\">\",\"\",seq_name)\n",
    "        #seq_name=re.sub(\".fa\\s\\sFORWARD\",\"\",seq_name)\n",
    "        #print(seq_name)\n",
    "        #s = re.match('^(\\>)(\\w+\\.\\w+\\.*)(\\.fa.+)',seq_name)\n",
    "        #seq_name = s.groups(0)\n",
    "        ## data separates the file by a list of lists, where each item is separated\n",
    "        ## by the empty spaces, converting each item into a list of strings\n",
    "            data = [line.split() for line in lines]\n",
    "        ## refine data curates lines with a positive score\n",
    "            refine_data = [d for d in data if d[0] != 'None' and float(d[0]) > 0]\n",
    "            return   seq_name, refine_data\n",
    "#print(get_data('../hairpins_noreverse.out'))\n",
    "refined_data = get_data('../hairpins_noreverse.out')[0]\n",
    "print(refined_data)\n",
    "#print(palindromes(refined_data))"
   ]
  },
  {
   "cell_type": "code",
   "execution_count": 15,
   "metadata": {},
   "outputs": [
    {
     "name": "stdout",
     "output_type": "stream",
     "text": [
      "[[1, 5, 10, 14], [2, 5, 10, 12], [2, 5, 10, 13], [3, 7, 12, 16], [4, 7, 12, 15], [4, 8, 15, 19], [5, 8, 15, 18], [6, 8, 15, 17], [7, 11, 19, 23], [8, 11, 19, 22], [9, 11, 19, 21], [10, 11, 19, 20], [14, 27, 33, 44], [17, 27, 33, 43], [19, 27, 33, 42], [32, 37, 43, 48], [33, 37, 43, 47], [34, 38, 45, 49], [35, 37, 50, 52], [36, 37, 49, 50], [36, 37, 50, 51], [43, 45, 51, 53], [44, 45, 54, 55], [45, 45, 56, 56], [45, 45, 59, 59], [50, 51, 61, 62], [51, 51, 61, 61], [52, 54, 61, 63], [52, 56, 61, 65], [53, 56, 61, 64], [56, 58, 64, 66], [56, 58, 65, 67], [58, 59, 67, 68], [59, 62, 67, 69]]\n"
     ]
    }
   ],
   "source": [
    "def palindromes(data):\n",
    "    '''This function takes the refined data from a get_data and returns a list of palindromes.\n",
    "    Each palindrome represented by a four cordinate, two for left steam and two for right steam'''\n",
    "    ## creates empty list\n",
    "    palindrome= []\n",
    "    ## itirates through the refined data\n",
    "    for i in range(1,len(data)):\n",
    "        ## word divides each line in a list\n",
    "        word = data[i]\n",
    "        ## energy hasn't been used\n",
    "        energy = float(word[0])\n",
    "        ## start is the base where hairpin starts\n",
    "        start = int(word[1])\n",
    "        ## positions 5 and 7 tend to have -\n",
    "        ## here we remove them left being 5, and right 7\n",
    "        lsteam = re.sub('-','',word[5])           #Left steam of a pallindrome,cleaning data\n",
    "        rsteam = re.sub('-','',word[7])           #Right steam of a pallindrome,cleaning data\n",
    "        ## loop is apparently not used\n",
    "        loop = word[6]\n",
    "        ## index 3 represents the lenght of the hairpin\n",
    "        length = int(word[3])\n",
    "        ## let's figure why is this sequence of characters a palindrome\n",
    "        p = [start,start+len(lsteam)-1,length-len(rsteam)+1,length]\n",
    "        palindrome.append(p)\n",
    "    return sorted(palindrome)                     # sorting list accrding to start position\n",
    "print(palindromes(refined_data))\n",
    "palindrome = palindromes(refined_data)\n",
    "graph_data = palindromes(refined_data)"
   ]
  },
  {
   "cell_type": "code",
   "execution_count": 15,
   "metadata": {},
   "outputs": [],
   "source": [
    "def relation(p1,p2):\n",
    "    '''This function takes the list of palindromes and return relationship between two palindromes in form of a Letter.\n",
    "    Where O=overlapping,S=serial,X=exclusive,I=Included'''\n",
    "    if p1[1] < p2[0] and p1[2] > p2[1] and p1[3] < p2[2]:\n",
    "        return 'O'\n",
    "    elif p1[1]<p2[0] and p1[2] > p2[3] :\n",
    "        return 'I'\n",
    "    elif p1[3] < p2[0]:\n",
    "        return 'S'\n",
    "    else:\n",
    "        return 'X'\n",
    "\n",
    "def pgraph(palindrome):\n",
    "    '''This function give graph from each pallindrome (consider as Node) to another pallindrome.\n",
    "    There is no path between pallindrome having Exclusive(X) relation.\n",
    "    Rerurns dictionary which has Node as key and list of paths from that node as list'''\n",
    "    #palindrome = palindromes()\n",
    "    #print(len(palindrome))\n",
    "    graph = {}\n",
    "    ## itirates through each element in the palindromes list\n",
    "    ## note that palindromes is a list of lists\n",
    "    for i in range(len(palindrome)):\n",
    "        ## empty list for each list in palindrome\n",
    "        path = []\n",
    "        ## itirates through palindome iteration\n",
    "        for j in range(i,len(palindrome)):\n",
    "            r = relation(palindrome[i],palindrome[j])\n",
    "            if r != 'X':\n",
    "                path.append(j)\n",
    "                graph[i] = path\n",
    "            else:\n",
    "                graph[i] = path\n",
    "    return graph\n",
    "test_graph = pgraph(graph_data)"
   ]
  },
  {
   "cell_type": "code",
   "execution_count": 16,
   "metadata": {},
   "outputs": [
    {
     "name": "stdout",
     "output_type": "stream",
     "text": [
      "[[0, 7, 10, 15, 25, 30, 33], [0, 7, 10, 15, 25, 31], [0, 7, 10, 15, 25, 32], [0, 7, 10, 15, 26, 30, 33], [0, 7, 10, 15, 26, 31], [0, 7, 10, 15, 26, 32], [0, 7, 10, 15, 27, 30, 33], [0, 7, 10, 15, 27, 31], [0, 7, 10, 15, 27, 32], [0, 7, 10, 15, 28, 32], [0, 7, 10, 15, 29, 32], [0, 7, 10, 15, 30, 33], [0, 7, 10, 15, 31], [0, 7, 10, 15, 32], [0, 7, 10, 15, 33], [0, 7, 10, 16, 25, 30, 33], [0, 7, 10, 16, 25, 31], [0, 7, 10, 16, 25, 32], [0, 7, 10, 16, 26, 30, 33], [0, 7, 10, 16, 26, 31], [0, 7, 10, 16, 26, 32], [0, 7, 10, 16, 27, 30, 33], [0, 7, 10, 16, 27, 31], [0, 7, 10, 16, 27, 32], [0, 7, 10, 16, 28, 32], [0, 7, 10, 16, 29, 32], [0, 7, 10, 16, 30, 33], [0, 7, 10, 16, 31], [0, 7, 10, 16, 32], [0, 7, 10, 16, 33], [0, 7, 10, 17, 25, 30, 33], [0, 7, 10, 17, 25, 31], [0, 7, 10, 17, 25, 32], [0, 7, 10, 17, 26, 30, 33], [0, 7, 10, 17, 26, 31], [0, 7, 10, 17, 26, 32], [0, 7, 10, 17, 27, 30, 33], [0, 7, 10, 17, 27, 31], [0, 7, 10, 17, 27, 32], [0, 7, 10, 17, 28, 32], [0, 7, 10, 17, 29, 32], [0, 7, 10, 17, 30, 33], [0, 7, 10, 17, 31], [0, 7, 10, 17, 32], [0, 7, 10, 17, 33], [0, 7, 10, 18, 22, 25, 30, 33], [0, 7, 10, 18, 22, 25, 31], [0, 7, 10, 18, 22, 25, 32], [0, 7, 10, 18, 22, 26, 30, 33], [0, 7, 10, 18, 22, 26, 31], [0, 7, 10, 18, 22, 26, 32], [0, 7, 10, 18, 22, 30, 33], [0, 7, 10, 18, 22, 31], [0, 7, 10, 18, 22, 32], [0, 7, 10, 18, 22, 33], [0, 7, 10, 18, 23, 25, 30, 33], [0, 7, 10, 18, 23, 25, 31], [0, 7, 10, 18, 23, 25, 32], [0, 7, 10, 18, 23, 26, 30, 33], [0, 7, 10, 18, 23, 26, 31], [0, 7, 10, 18, 23, 26, 32], [0, 7, 10, 18, 23, 27, 30, 33], [0, 7, 10, 18, 23, 27, 31], [0, 7, 10, 18, 23, 27, 32], [0, 7, 10, 18, 23, 32], [0, 7, 10, 18, 23, 33], [0, 7, 10, 18, 24, 25, 30, 33], [0, 7, 10, 18, 24, 25, 31], [0, 7, 10, 18, 24, 25, 32], [0, 7, 10, 18, 24, 26, 30, 33], [0, 7, 10, 18, 24, 26, 31], [0, 7, 10, 18, 24, 26, 32], [0, 7, 10, 18, 24, 27, 30, 33], [0, 7, 10, 18, 24, 27, 31], [0, 7, 10, 18, 24, 27, 32], [0, 7, 10, 18, 24, 28, 32], [0, 7, 10, 18, 24, 29, 32], [0, 7, 10, 18, 24, 30, 33], [0, 7, 10, 18, 24, 31], [0, 7, 10, 18, 29, 32], [0, 7, 10, 18, 30, 33], [0, 7, 10, 18, 31], [0, 7, 10, 18, 32], [0, 7, 10, 18, 33], [0, 7, 10, 19, 21, 30, 33], [0, 7, 10, 19, 21, 31], [0, 7, 10, 19, 21, 32], [0, 7, 10, 19, 21, 33], [0, 7, 10, 19, 22, 25, 30, 33], [0, 7, 10, 19, 22, 25, 31], [0, 7, 10, 19, 22, 25, 32], [0, 7, 10, 19, 22, 26, 30, 33], [0, 7, 10, 19, 22, 26, 31], [0, 7, 10, 19, 22, 26, 32], [0, 7, 10, 19, 22, 30, 33], [0, 7, 10, 19, 22, 31], [0, 7, 10, 19, 22, 32], [0, 7, 10, 19, 22, 33], [0, 7, 10, 19, 23, 25, 30, 33], [0, 7, 10, 19, 23, 25, 31], [0, 7, 10, 19, 23, 25, 32], [0, 7, 10, 19, 23, 26, 30, 33], [0, 7, 10, 19, 23, 26, 31], [0, 7, 10, 19, 23, 26, 32], [0, 7, 10, 19, 23, 27, 30, 33], [0, 7, 10, 19, 23, 27, 31], [0, 7, 10, 19, 23, 27, 32], [0, 7, 10, 19, 23, 32], [0, 7, 10, 19, 23, 33], [0, 7, 10, 19, 24, 25, 30, 33], [0, 7, 10, 19, 24, 25, 31], [0, 7, 10, 19, 24, 25, 32], [0, 7, 10, 19, 24, 26, 30, 33], [0, 7, 10, 19, 24, 26, 31], [0, 7, 10, 19, 24, 26, 32], [0, 7, 10, 19, 24, 27, 30, 33], [0, 7, 10, 19, 24, 27, 31], [0, 7, 10, 19, 24, 27, 32], [0, 7, 10, 19, 24, 28, 32], [0, 7, 10, 19, 24, 29, 32], [0, 7, 10, 19, 24, 30, 33], [0, 7, 10, 19, 24, 31], [0, 7, 10, 19, 26, 30, 33], [0, 7, 10, 19, 26, 31], [0, 7, 10, 19, 26, 32], [0, 7, 10, 19, 27, 30, 33], [0, 7, 10, 19, 27, 31], [0, 7, 10, 19, 27, 32], [0, 7, 10, 19, 28, 32], [0, 7, 10, 19, 29, 32], [0, 7, 10, 19, 30, 33], [0, 7, 10, 19, 31], [0, 7, 10, 19, 32], [0, 7, 10, 19, 33], [0, 7, 10, 20, 22, 25, 30, 33], [0, 7, 10, 20, 22, 25, 31], [0, 7, 10, 20, 22, 25, 32], [0, 7, 10, 20, 22, 26, 30, 33], [0, 7, 10, 20, 22, 26, 31], [0, 7, 10, 20, 22, 26, 32], [0, 7, 10, 20, 22, 30, 33], [0, 7, 10, 20, 22, 31], [0, 7, 10, 20, 22, 32], [0, 7, 10, 20, 22, 33], [0, 7, 10, 20, 23, 25, 30, 33], [0, 7, 10, 20, 23, 25, 31], [0, 7, 10, 20, 23, 25, 32], [0, 7, 10, 20, 23, 26, 30, 33], [0, 7, 10, 20, 23, 26, 31], [0, 7, 10, 20, 23, 26, 32], [0, 7, 10, 20, 23, 27, 30, 33], [0, 7, 10, 20, 23, 27, 31], [0, 7, 10, 20, 23, 27, 32], [0, 7, 10, 20, 23, 32], [0, 7, 10, 20, 23, 33], [0, 7, 10, 20, 24, 25, 30, 33], [0, 7, 10, 20, 24, 25, 31], [0, 7, 10, 20, 24, 25, 32], [0, 7, 10, 20, 24, 26, 30, 33], [0, 7, 10, 20, 24, 26, 31], [0, 7, 10, 20, 24, 26, 32], [0, 7, 10, 20, 24, 27, 30, 33], [0, 7, 10, 20, 24, 27, 31], [0, 7, 10, 20, 24, 27, 32], [0, 7, 10, 20, 24, 28, 32], [0, 7, 10, 20, 24, 29, 32], [0, 7, 10, 20, 24, 30, 33], [0, 7, 10, 20, 24, 31], [0, 7, 10, 20, 27, 30, 33], [0, 7, 10, 20, 27, 31], [0, 7, 10, 20, 27, 32], [0, 7, 10, 20, 28, 32], [0, 7, 10, 20, 29, 32], [0, 7, 10, 20, 30, 33], [0, 7, 10, 20, 31], [0, 7, 10, 20, 32], [0, 7, 10, 20, 33], [0, 7, 10, 21, 30, 33], [0, 7, 10, 21, 31], [0, 7, 10, 21, 32], [0, 7, 10, 21, 33], [0, 7, 10, 22, 25, 30, 33], [0, 7, 10, 22, 25, 31], [0, 7, 10, 22, 25, 32], [0, 7, 10, 22, 26, 30, 33], [0, 7, 10, 22, 26, 31], [0, 7, 10, 22, 26, 32], [0, 7, 10, 22, 30, 33], [0, 7, 10, 22, 31], [0, 7, 10, 22, 32], [0, 7, 10, 22, 33], [0, 7, 10, 23, 25, 30, 33], [0, 7, 10, 23, 25, 31], [0, 7, 10, 23, 25, 32], [0, 7, 10, 23, 26, 30, 33], [0, 7, 10, 23, 26, 31], [0, 7, 10, 23, 26, 32], [0, 7, 10, 23, 27, 30, 33], [0, 7, 10, 23, 27, 31], [0, 7, 10, 23, 27, 32], [0, 7, 10, 23, 32], [0, 7, 10, 23, 33], [0, 7, 10, 24, 25, 30, 33], [0, 7, 10, 24, 25, 31], [0, 7, 10, 24, 25, 32], [0, 7, 10, 24, 26, 30, 33], [0, 7, 10, 24, 26, 31], [0, 7, 10, 24, 26, 32], [0, 7, 10, 24, 27, 30, 33], [0, 7, 10, 24, 27, 31], [0, 7, 10, 24, 27, 32], [0, 7, 10, 24, 28, 32], [0, 7, 10, 24, 29, 32], [0, 7, 10, 24, 30, 33], [0, 7, 10, 24, 31], [0, 7, 10, 25, 30, 33], [0, 7, 10, 25, 31], [0, 7, 10, 25, 32], [0, 7, 10, 26, 30, 33], [0, 7, 10, 26, 31], [0, 7, 10, 26, 32], [0, 7, 10, 27, 30, 33], [0, 7, 10, 27, 31], [0, 7, 10, 27, 32], [0, 7, 10, 28, 32], [0, 7, 10, 29, 32], [0, 7, 10, 30, 33], [0, 7, 10, 31], [0, 7, 10, 32], [0, 7, 10, 33], [0, 7, 11, 15, 25, 30, 33], [0, 7, 11, 15, 25, 31], [0, 7, 11, 15, 25, 32], [0, 7, 11, 15, 26, 30, 33], [0, 7, 11, 15, 26, 31], [0, 7, 11, 15, 26, 32], [0, 7, 11, 15, 27, 30, 33], [0, 7, 11, 15, 27, 31], [0, 7, 11, 15, 27, 32], [0, 7, 11, 15, 28, 32], [0, 7, 11, 15, 29, 32], [0, 7, 11, 15, 30, 33], [0, 7, 11, 15, 31], [0, 7, 11, 15, 32], [0, 7, 11, 15, 33], [0, 7, 11, 16, 25, 30, 33], [0, 7, 11, 16, 25, 31], [0, 7, 11, 16, 25, 32], [0, 7, 11, 16, 26, 30, 33], [0, 7, 11, 16, 26, 31], [0, 7, 11, 16, 26, 32], [0, 7, 11, 16, 27, 30, 33], [0, 7, 11, 16, 27, 31], [0, 7, 11, 16, 27, 32], [0, 7, 11, 16, 28, 32], [0, 7, 11, 16, 29, 32], [0, 7, 11, 16, 30, 33], [0, 7, 11, 16, 31], [0, 7, 11, 16, 32], [0, 7, 11, 16, 33], [0, 7, 11, 17, 25, 30, 33], [0, 7, 11, 17, 25, 31], [0, 7, 11, 17, 25, 32], [0, 7, 11, 17, 26, 30, 33], [0, 7, 11, 17, 26, 31], [0, 7, 11, 17, 26, 32], [0, 7, 11, 17, 27, 30, 33], [0, 7, 11, 17, 27, 31], [0, 7, 11, 17, 27, 32], [0, 7, 11, 17, 28, 32], [0, 7, 11, 17, 29, 32], [0, 7, 11, 17, 30, 33], [0, 7, 11, 17, 31], [0, 7, 11, 17, 32], [0, 7, 11, 17, 33], [0, 7, 11, 18, 22, 25, 30, 33], [0, 7, 11, 18, 22, 25, 31], [0, 7, 11, 18, 22, 25, 32], [0, 7, 11, 18, 22, 26, 30, 33], [0, 7, 11, 18, 22, 26, 31], [0, 7, 11, 18, 22, 26, 32], [0, 7, 11, 18, 22, 30, 33], [0, 7, 11, 18, 22, 31], [0, 7, 11, 18, 22, 32], [0, 7, 11, 18, 22, 33], [0, 7, 11, 18, 23, 25, 30, 33], [0, 7, 11, 18, 23, 25, 31], [0, 7, 11, 18, 23, 25, 32], [0, 7, 11, 18, 23, 26, 30, 33], [0, 7, 11, 18, 23, 26, 31], [0, 7, 11, 18, 23, 26, 32], [0, 7, 11, 18, 23, 27, 30, 33], [0, 7, 11, 18, 23, 27, 31], [0, 7, 11, 18, 23, 27, 32], [0, 7, 11, 18, 23, 32], [0, 7, 11, 18, 23, 33], [0, 7, 11, 18, 24, 25, 30, 33], [0, 7, 11, 18, 24, 25, 31], [0, 7, 11, 18, 24, 25, 32], [0, 7, 11, 18, 24, 26, 30, 33], [0, 7, 11, 18, 24, 26, 31], [0, 7, 11, 18, 24, 26, 32], [0, 7, 11, 18, 24, 27, 30, 33], [0, 7, 11, 18, 24, 27, 31], [0, 7, 11, 18, 24, 27, 32], [0, 7, 11, 18, 24, 28, 32], [0, 7, 11, 18, 24, 29, 32], [0, 7, 11, 18, 24, 30, 33], [0, 7, 11, 18, 24, 31], [0, 7, 11, 18, 29, 32], [0, 7, 11, 18, 30, 33], [0, 7, 11, 18, 31], [0, 7, 11, 18, 32], [0, 7, 11, 18, 33], [0, 7, 11, 19, 21, 30, 33], [0, 7, 11, 19, 21, 31], [0, 7, 11, 19, 21, 32], [0, 7, 11, 19, 21, 33], [0, 7, 11, 19, 22, 25, 30, 33], [0, 7, 11, 19, 22, 25, 31], [0, 7, 11, 19, 22, 25, 32], [0, 7, 11, 19, 22, 26, 30, 33], [0, 7, 11, 19, 22, 26, 31], [0, 7, 11, 19, 22, 26, 32], [0, 7, 11, 19, 22, 30, 33], [0, 7, 11, 19, 22, 31], [0, 7, 11, 19, 22, 32], [0, 7, 11, 19, 22, 33], [0, 7, 11, 19, 23, 25, 30, 33], [0, 7, 11, 19, 23, 25, 31], [0, 7, 11, 19, 23, 25, 32], [0, 7, 11, 19, 23, 26, 30, 33], [0, 7, 11, 19, 23, 26, 31], [0, 7, 11, 19, 23, 26, 32], [0, 7, 11, 19, 23, 27, 30, 33], [0, 7, 11, 19, 23, 27, 31], [0, 7, 11, 19, 23, 27, 32], [0, 7, 11, 19, 23, 32], [0, 7, 11, 19, 23, 33], [0, 7, 11, 19, 24, 25, 30, 33], [0, 7, 11, 19, 24, 25, 31], [0, 7, 11, 19, 24, 25, 32], [0, 7, 11, 19, 24, 26, 30, 33], [0, 7, 11, 19, 24, 26, 31], [0, 7, 11, 19, 24, 26, 32], [0, 7, 11, 19, 24, 27, 30, 33], [0, 7, 11, 19, 24, 27, 31], [0, 7, 11, 19, 24, 27, 32], [0, 7, 11, 19, 24, 28, 32], [0, 7, 11, 19, 24, 29, 32], [0, 7, 11, 19, 24, 30, 33], [0, 7, 11, 19, 24, 31], [0, 7, 11, 19, 26, 30, 33], [0, 7, 11, 19, 26, 31], [0, 7, 11, 19, 26, 32], [0, 7, 11, 19, 27, 30, 33], [0, 7, 11, 19, 27, 31], [0, 7, 11, 19, 27, 32], [0, 7, 11, 19, 28, 32], [0, 7, 11, 19, 29, 32], [0, 7, 11, 19, 30, 33], [0, 7, 11, 19, 31], [0, 7, 11, 19, 32], [0, 7, 11, 19, 33], [0, 7, 11, 20, 22, 25, 30, 33], [0, 7, 11, 20, 22, 25, 31], [0, 7, 11, 20, 22, 25, 32], [0, 7, 11, 20, 22, 26, 30, 33], [0, 7, 11, 20, 22, 26, 31], [0, 7, 11, 20, 22, 26, 32], [0, 7, 11, 20, 22, 30, 33], [0, 7, 11, 20, 22, 31], [0, 7, 11, 20, 22, 32], [0, 7, 11, 20, 22, 33], [0, 7, 11, 20, 23, 25, 30, 33], [0, 7, 11, 20, 23, 25, 31], [0, 7, 11, 20, 23, 25, 32], [0, 7, 11, 20, 23, 26, 30, 33], [0, 7, 11, 20, 23, 26, 31], [0, 7, 11, 20, 23, 26, 32], [0, 7, 11, 20, 23, 27, 30, 33], [0, 7, 11, 20, 23, 27, 31], [0, 7, 11, 20, 23, 27, 32], [0, 7, 11, 20, 23, 32], [0, 7, 11, 20, 23, 33], [0, 7, 11, 20, 24, 25, 30, 33], [0, 7, 11, 20, 24, 25, 31], [0, 7, 11, 20, 24, 25, 32], [0, 7, 11, 20, 24, 26, 30, 33], [0, 7, 11, 20, 24, 26, 31], [0, 7, 11, 20, 24, 26, 32], [0, 7, 11, 20, 24, 27, 30, 33], [0, 7, 11, 20, 24, 27, 31], [0, 7, 11, 20, 24, 27, 32], [0, 7, 11, 20, 24, 28, 32], [0, 7, 11, 20, 24, 29, 32], [0, 7, 11, 20, 24, 30, 33], [0, 7, 11, 20, 24, 31], [0, 7, 11, 20, 27, 30, 33], [0, 7, 11, 20, 27, 31], [0, 7, 11, 20, 27, 32], [0, 7, 11, 20, 28, 32], [0, 7, 11, 20, 29, 32], [0, 7, 11, 20, 30, 33], [0, 7, 11, 20, 31], [0, 7, 11, 20, 32], [0, 7, 11, 20, 33], [0, 7, 11, 21, 30, 33], [0, 7, 11, 21, 31], [0, 7, 11, 21, 32], [0, 7, 11, 21, 33], [0, 7, 11, 22, 25, 30, 33], [0, 7, 11, 22, 25, 31], [0, 7, 11, 22, 25, 32], [0, 7, 11, 22, 26, 30, 33], [0, 7, 11, 22, 26, 31], [0, 7, 11, 22, 26, 32], [0, 7, 11, 22, 30, 33], [0, 7, 11, 22, 31], [0, 7, 11, 22, 32], [0, 7, 11, 22, 33], [0, 7, 11, 23, 25, 30, 33], [0, 7, 11, 23, 25, 31], [0, 7, 11, 23, 25, 32], [0, 7, 11, 23, 26, 30, 33], [0, 7, 11, 23, 26, 31], [0, 7, 11, 23, 26, 32], [0, 7, 11, 23, 27, 30, 33], [0, 7, 11, 23, 27, 31], [0, 7, 11, 23, 27, 32], [0, 7, 11, 23, 32], [0, 7, 11, 23, 33], [0, 7, 11, 24, 25, 30, 33], [0, 7, 11, 24, 25, 31], [0, 7, 11, 24, 25, 32], [0, 7, 11, 24, 26, 30, 33], [0, 7, 11, 24, 26, 31], [0, 7, 11, 24, 26, 32], [0, 7, 11, 24, 27, 30, 33], [0, 7, 11, 24, 27, 31], [0, 7, 11, 24, 27, 32], [0, 7, 11, 24, 28, 32], [0, 7, 11, 24, 29, 32], [0, 7, 11, 24, 30, 33], [0, 7, 11, 24, 31], [0, 7, 11, 25, 30, 33], [0, 7, 11, 25, 31], [0, 7, 11, 25, 32], [0, 7, 11, 26, 30, 33], [0, 7, 11, 26, 31], [0, 7, 11, 26, 32], [0, 7, 11, 27, 30, 33], [0, 7, 11, 27, 31], [0, 7, 11, 27, 32], [0, 7, 11, 28, 32], [0, 7, 11, 29, 32], [0, 7, 11, 30, 33], [0, 7, 11, 31], [0, 7, 11, 32], [0, 7, 11, 33], [0, 7, 14, 21, 30, 33], [0, 7, 14, 21, 31], [0, 7, 14, 21, 32], [0, 7, 14, 21, 33], [0, 7, 14, 22, 25, 30, 33], [0, 7, 14, 22, 25, 31], [0, 7, 14, 22, 25, 32], [0, 7, 14, 22, 26, 30, 33], [0, 7, 14, 22, 26, 31], [0, 7, 14, 22, 26, 32], [0, 7, 14, 22, 30, 33], [0, 7, 14, 22, 31], [0, 7, 14, 22, 32], [0, 7, 14, 22, 33], [0, 7, 14, 23, 25, 30, 33], [0, 7, 14, 23, 25, 31], [0, 7, 14, 23, 25, 32], [0, 7, 14, 23, 26, 30, 33], [0, 7, 14, 23, 26, 31], [0, 7, 14, 23, 26, 32], [0, 7, 14, 23, 27, 30, 33], [0, 7, 14, 23, 27, 31], [0, 7, 14, 23, 27, 32], [0, 7, 14, 23, 32], [0, 7, 14, 23, 33], [0, 7, 14, 24, 25, 30, 33], [0, 7, 14, 24, 25, 31], [0, 7, 14, 24, 25, 32], [0, 7, 14, 24, 26, 30, 33], [0, 7, 14, 24, 26, 31], [0, 7, 14, 24, 26, 32], [0, 7, 14, 24, 27, 30, 33], [0, 7, 14, 24, 27, 31], [0, 7, 14, 24, 27, 32], [0, 7, 14, 24, 28, 32], [0, 7, 14, 24, 29, 32], [0, 7, 14, 24, 30, 33], [0, 7, 14, 24, 31], [0, 7, 14, 25, 30, 33], [0, 7, 14, 25, 31], [0, 7, 14, 25, 32], [0, 7, 14, 26, 30, 33], [0, 7, 14, 26, 31], [0, 7, 14, 26, 32], [0, 7, 14, 27, 30, 33], [0, 7, 14, 27, 31], [0, 7, 14, 27, 32], [0, 7, 14, 28, 32], [0, 7, 14, 29, 32], [0, 7, 14, 30, 33], [0, 7, 14, 31], [0, 7, 14, 32], [0, 7, 14, 33], [0, 7, 15, 25, 30, 33], [0, 7, 15, 25, 31], [0, 7, 15, 25, 32], [0, 7, 15, 26, 30, 33], [0, 7, 15, 26, 31], [0, 7, 15, 26, 32], [0, 7, 15, 27, 30, 33], [0, 7, 15, 27, 31], [0, 7, 15, 27, 32], [0, 7, 15, 28, 32], [0, 7, 15, 29, 32], [0, 7, 15, 30, 33], [0, 7, 15, 31], [0, 7, 15, 32], [0, 7, 15, 33], [0, 7, 16, 25, 30, 33], [0, 7, 16, 25, 31], [0, 7, 16, 25, 32], [0, 7, 16, 26, 30, 33], [0, 7, 16, 26, 31], [0, 7, 16, 26, 32], [0, 7, 16, 27, 30, 33], [0, 7, 16, 27, 31], [0, 7, 16, 27, 32], [0, 7, 16, 28, 32], [0, 7, 16, 29, 32], [0, 7, 16, 30, 33], [0, 7, 16, 31], [0, 7, 16, 32], [0, 7, 16, 33], [0, 7, 17, 25, 30, 33], [0, 7, 17, 25, 31], [0, 7, 17, 25, 32], [0, 7, 17, 26, 30, 33], [0, 7, 17, 26, 31], [0, 7, 17, 26, 32], [0, 7, 17, 27, 30, 33], [0, 7, 17, 27, 31], [0, 7, 17, 27, 32], [0, 7, 17, 28, 32], [0, 7, 17, 29, 32], [0, 7, 17, 30, 33], [0, 7, 17, 31], [0, 7, 17, 32], [0, 7, 17, 33], [0, 7, 18, 22, 25, 30, 33], [0, 7, 18, 22, 25, 31], [0, 7, 18, 22, 25, 32], [0, 7, 18, 22, 26, 30, 33], [0, 7, 18, 22, 26, 31], [0, 7, 18, 22, 26, 32], [0, 7, 18, 22, 30, 33], [0, 7, 18, 22, 31], [0, 7, 18, 22, 32], [0, 7, 18, 22, 33], [0, 7, 18, 23, 25, 30, 33], [0, 7, 18, 23, 25, 31], [0, 7, 18, 23, 25, 32], [0, 7, 18, 23, 26, 30, 33], [0, 7, 18, 23, 26, 31], [0, 7, 18, 23, 26, 32], [0, 7, 18, 23, 27, 30, 33], [0, 7, 18, 23, 27, 31], [0, 7, 18, 23, 27, 32], [0, 7, 18, 23, 32], [0, 7, 18, 23, 33], [0, 7, 18, 24, 25, 30, 33], [0, 7, 18, 24, 25, 31], [0, 7, 18, 24, 25, 32], [0, 7, 18, 24, 26, 30, 33], [0, 7, 18, 24, 26, 31], [0, 7, 18, 24, 26, 32], [0, 7, 18, 24, 27, 30, 33], [0, 7, 18, 24, 27, 31], [0, 7, 18, 24, 27, 32], [0, 7, 18, 24, 28, 32], [0, 7, 18, 24, 29, 32], [0, 7, 18, 24, 30, 33], [0, 7, 18, 24, 31], [0, 7, 18, 29, 32], [0, 7, 18, 30, 33], [0, 7, 18, 31], [0, 7, 18, 32], [0, 7, 18, 33], [0, 7, 19, 21, 30, 33], [0, 7, 19, 21, 31], [0, 7, 19, 21, 32], [0, 7, 19, 21, 33], [0, 7, 19, 22, 25, 30, 33], [0, 7, 19, 22, 25, 31], [0, 7, 19, 22, 25, 32], [0, 7, 19, 22, 26, 30, 33], [0, 7, 19, 22, 26, 31], [0, 7, 19, 22, 26, 32], [0, 7, 19, 22, 30, 33], [0, 7, 19, 22, 31], [0, 7, 19, 22, 32], [0, 7, 19, 22, 33], [0, 7, 19, 23, 25, 30, 33], [0, 7, 19, 23, 25, 31], [0, 7, 19, 23, 25, 32], [0, 7, 19, 23, 26, 30, 33], [0, 7, 19, 23, 26, 31], [0, 7, 19, 23, 26, 32], [0, 7, 19, 23, 27, 30, 33], [0, 7, 19, 23, 27, 31], [0, 7, 19, 23, 27, 32], [0, 7, 19, 23, 32], [0, 7, 19, 23, 33], [0, 7, 19, 24, 25, 30, 33], [0, 7, 19, 24, 25, 31], [0, 7, 19, 24, 25, 32], [0, 7, 19, 24, 26, 30, 33], [0, 7, 19, 24, 26, 31], [0, 7, 19, 24, 26, 32], [0, 7, 19, 24, 27, 30, 33], [0, 7, 19, 24, 27, 31], [0, 7, 19, 24, 27, 32], [0, 7, 19, 24, 28, 32], [0, 7, 19, 24, 29, 32], [0, 7, 19, 24, 30, 33], [0, 7, 19, 24, 31], [0, 7, 19, 26, 30, 33], [0, 7, 19, 26, 31], [0, 7, 19, 26, 32], [0, 7, 19, 27, 30, 33], [0, 7, 19, 27, 31], [0, 7, 19, 27, 32], [0, 7, 19, 28, 32], [0, 7, 19, 29, 32], [0, 7, 19, 30, 33], [0, 7, 19, 31], [0, 7, 19, 32], [0, 7, 19, 33], [0, 7, 20, 22, 25, 30, 33], [0, 7, 20, 22, 25, 31], [0, 7, 20, 22, 25, 32], [0, 7, 20, 22, 26, 30, 33], [0, 7, 20, 22, 26, 31], [0, 7, 20, 22, 26, 32], [0, 7, 20, 22, 30, 33], [0, 7, 20, 22, 31], [0, 7, 20, 22, 32], [0, 7, 20, 22, 33], [0, 7, 20, 23, 25, 30, 33], [0, 7, 20, 23, 25, 31], [0, 7, 20, 23, 25, 32], [0, 7, 20, 23, 26, 30, 33], [0, 7, 20, 23, 26, 31], [0, 7, 20, 23, 26, 32], [0, 7, 20, 23, 27, 30, 33], [0, 7, 20, 23, 27, 31], [0, 7, 20, 23, 27, 32], [0, 7, 20, 23, 32], [0, 7, 20, 23, 33], [0, 7, 20, 24, 25, 30, 33], [0, 7, 20, 24, 25, 31], [0, 7, 20, 24, 25, 32], [0, 7, 20, 24, 26, 30, 33], [0, 7, 20, 24, 26, 31], [0, 7, 20, 24, 26, 32], [0, 7, 20, 24, 27, 30, 33], [0, 7, 20, 24, 27, 31], [0, 7, 20, 24, 27, 32], [0, 7, 20, 24, 28, 32], [0, 7, 20, 24, 29, 32], [0, 7, 20, 24, 30, 33], [0, 7, 20, 24, 31], [0, 7, 20, 27, 30, 33], [0, 7, 20, 27, 31], [0, 7, 20, 27, 32], [0, 7, 20, 28, 32], [0, 7, 20, 29, 32], [0, 7, 20, 30, 33], [0, 7, 20, 31], [0, 7, 20, 32], [0, 7, 20, 33], [0, 7, 21, 30, 33], [0, 7, 21, 31], [0, 7, 21, 32], [0, 7, 21, 33], [0, 7, 22, 25, 30, 33], [0, 7, 22, 25, 31], [0, 7, 22, 25, 32], [0, 7, 22, 26, 30, 33], [0, 7, 22, 26, 31], [0, 7, 22, 26, 32], [0, 7, 22, 30, 33], [0, 7, 22, 31], [0, 7, 22, 32], [0, 7, 22, 33], [0, 7, 23, 25, 30, 33], [0, 7, 23, 25, 31], [0, 7, 23, 25, 32], [0, 7, 23, 26, 30, 33], [0, 7, 23, 26, 31], [0, 7, 23, 26, 32], [0, 7, 23, 27, 30, 33], [0, 7, 23, 27, 31], [0, 7, 23, 27, 32], [0, 7, 23, 32], [0, 7, 23, 33], [0, 7, 24, 25, 30, 33], [0, 7, 24, 25, 31], [0, 7, 24, 25, 32], [0, 7, 24, 26, 30, 33], [0, 7, 24, 26, 31], [0, 7, 24, 26, 32], [0, 7, 24, 27, 30, 33], [0, 7, 24, 27, 31], [0, 7, 24, 27, 32], [0, 7, 24, 28, 32], [0, 7, 24, 29, 32], [0, 7, 24, 30, 33], [0, 7, 24, 31], [0, 7, 25, 30, 33], [0, 7, 25, 31], [0, 7, 25, 32], [0, 7, 26, 30, 33], [0, 7, 26, 31], [0, 7, 26, 32], [0, 7, 27, 30, 33], [0, 7, 27, 31], [0, 7, 27, 32], [0, 7, 28, 32], [0, 7, 29, 32], [0, 7, 30, 33], [0, 7, 31], [0, 7, 32], [0, 7, 33], [0, 13, 22, 25, 30, 33], [0, 13, 22, 25, 31], [0, 13, 22, 25, 32], [0, 13, 22, 26, 30, 33], [0, 13, 22, 26, 31], [0, 13, 22, 26, 32], [0, 13, 22, 30, 33], [0, 13, 22, 31], [0, 13, 22, 32], [0, 13, 22, 33], [0, 13, 23, 25, 30, 33], [0, 13, 23, 25, 31], [0, 13, 23, 25, 32], [0, 13, 23, 26, 30, 33], [0, 13, 23, 26, 31], [0, 13, 23, 26, 32], [0, 13, 23, 27, 30, 33], [0, 13, 23, 27, 31], [0, 13, 23, 27, 32], [0, 13, 23, 32], [0, 13, 23, 33], [0, 13, 24, 25, 30, 33], [0, 13, 24, 25, 31], [0, 13, 24, 25, 32], [0, 13, 24, 26, 30, 33], [0, 13, 24, 26, 31], [0, 13, 24, 26, 32], [0, 13, 24, 27, 30, 33], [0, 13, 24, 27, 31], [0, 13, 24, 27, 32], [0, 13, 24, 28, 32], [0, 13, 24, 29, 32], [0, 13, 24, 30, 33], [0, 13, 24, 31], [0, 13, 25, 30, 33], [0, 13, 25, 31], [0, 13, 25, 32], [0, 13, 26, 30, 33], [0, 13, 26, 31], [0, 13, 26, 32], [0, 13, 27, 30, 33], [0, 13, 27, 31], [0, 13, 27, 32], [0, 13, 28, 32], [0, 13, 29, 32], [0, 13, 30, 33], [0, 13, 31], [0, 13, 32], [0, 13, 33], [0, 14, 21, 30, 33], [0, 14, 21, 31], [0, 14, 21, 32], [0, 14, 21, 33], [0, 14, 22, 25, 30, 33], [0, 14, 22, 25, 31], [0, 14, 22, 25, 32], [0, 14, 22, 26, 30, 33], [0, 14, 22, 26, 31], [0, 14, 22, 26, 32], [0, 14, 22, 30, 33], [0, 14, 22, 31], [0, 14, 22, 32], [0, 14, 22, 33], [0, 14, 23, 25, 30, 33], [0, 14, 23, 25, 31], [0, 14, 23, 25, 32], [0, 14, 23, 26, 30, 33], [0, 14, 23, 26, 31], [0, 14, 23, 26, 32], [0, 14, 23, 27, 30, 33], [0, 14, 23, 27, 31], [0, 14, 23, 27, 32], [0, 14, 23, 32], [0, 14, 23, 33], [0, 14, 24, 25, 30, 33], [0, 14, 24, 25, 31], [0, 14, 24, 25, 32], [0, 14, 24, 26, 30, 33], [0, 14, 24, 26, 31], [0, 14, 24, 26, 32], [0, 14, 24, 27, 30, 33], [0, 14, 24, 27, 31], [0, 14, 24, 27, 32], [0, 14, 24, 28, 32], [0, 14, 24, 29, 32], [0, 14, 24, 30, 33], [0, 14, 24, 31], [0, 14, 25, 30, 33], [0, 14, 25, 31], [0, 14, 25, 32], [0, 14, 26, 30, 33], [0, 14, 26, 31], [0, 14, 26, 32], [0, 14, 27, 30, 33], [0, 14, 27, 31], [0, 14, 27, 32], [0, 14, 28, 32], [0, 14, 29, 32], [0, 14, 30, 33], [0, 14, 31], [0, 14, 32], [0, 14, 33], [0, 15, 25, 30, 33], [0, 15, 25, 31], [0, 15, 25, 32], [0, 15, 26, 30, 33], [0, 15, 26, 31], [0, 15, 26, 32], [0, 15, 27, 30, 33], [0, 15, 27, 31], [0, 15, 27, 32], [0, 15, 28, 32], [0, 15, 29, 32], [0, 15, 30, 33], [0, 15, 31], [0, 15, 32], [0, 15, 33], [0, 16, 25, 30, 33], [0, 16, 25, 31], [0, 16, 25, 32], [0, 16, 26, 30, 33], [0, 16, 26, 31], [0, 16, 26, 32], [0, 16, 27, 30, 33], [0, 16, 27, 31], [0, 16, 27, 32], [0, 16, 28, 32], [0, 16, 29, 32], [0, 16, 30, 33], [0, 16, 31], [0, 16, 32], [0, 16, 33], [0, 17, 25, 30, 33], [0, 17, 25, 31], [0, 17, 25, 32], [0, 17, 26, 30, 33], [0, 17, 26, 31], [0, 17, 26, 32], [0, 17, 27, 30, 33], [0, 17, 27, 31], [0, 17, 27, 32], [0, 17, 28, 32], [0, 17, 29, 32], [0, 17, 30, 33], [0, 17, 31], [0, 17, 32], [0, 17, 33], [0, 18, 22, 25, 30, 33], [0, 18, 22, 25, 31], [0, 18, 22, 25, 32], [0, 18, 22, 26, 30, 33], [0, 18, 22, 26, 31], [0, 18, 22, 26, 32], [0, 18, 22, 30, 33], [0, 18, 22, 31], [0, 18, 22, 32], [0, 18, 22, 33], [0, 18, 23, 25, 30, 33], [0, 18, 23, 25, 31], [0, 18, 23, 25, 32], [0, 18, 23, 26, 30, 33], [0, 18, 23, 26, 31], [0, 18, 23, 26, 32], [0, 18, 23, 27, 30, 33], [0, 18, 23, 27, 31], [0, 18, 23, 27, 32], [0, 18, 23, 32], [0, 18, 23, 33], [0, 18, 24, 25, 30, 33], [0, 18, 24, 25, 31], [0, 18, 24, 25, 32], [0, 18, 24, 26, 30, 33], [0, 18, 24, 26, 31], [0, 18, 24, 26, 32], [0, 18, 24, 27, 30, 33], [0, 18, 24, 27, 31], [0, 18, 24, 27, 32], [0, 18, 24, 28, 32], [0, 18, 24, 29, 32], [0, 18, 24, 30, 33], [0, 18, 24, 31], [0, 18, 29, 32], [0, 18, 30, 33], [0, 18, 31], [0, 18, 32], [0, 18, 33], [0, 19, 21, 30, 33], [0, 19, 21, 31], [0, 19, 21, 32], [0, 19, 21, 33], [0, 19, 22, 25, 30, 33], [0, 19, 22, 25, 31], [0, 19, 22, 25, 32], [0, 19, 22, 26, 30, 33], [0, 19, 22, 26, 31], [0, 19, 22, 26, 32], [0, 19, 22, 30, 33], [0, 19, 22, 31], [0, 19, 22, 32], [0, 19, 22, 33], [0, 19, 23, 25, 30, 33], [0, 19, 23, 25, 31], [0, 19, 23, 25, 32], [0, 19, 23, 26, 30, 33], [0, 19, 23, 26, 31], [0, 19, 23, 26, 32], [0, 19, 23, 27, 30, 33], [0, 19, 23, 27, 31], [0, 19, 23, 27, 32], [0, 19, 23, 32], [0, 19, 23, 33], [0, 19, 24, 25, 30, 33], [0, 19, 24, 25, 31], [0, 19, 24, 25, 32], [0, 19, 24, 26, 30, 33], [0, 19, 24, 26, 31], [0, 19, 24, 26, 32], [0, 19, 24, 27, 30, 33], [0, 19, 24, 27, 31], [0, 19, 24, 27, 32], [0, 19, 24, 28, 32], [0, 19, 24, 29, 32], [0, 19, 24, 30, 33], [0, 19, 24, 31], [0, 19, 26, 30, 33], [0, 19, 26, 31], [0, 19, 26, 32], [0, 19, 27, 30, 33], [0, 19, 27, 31], [0, 19, 27, 32], [0, 19, 28, 32], [0, 19, 29, 32], [0, 19, 30, 33], [0, 19, 31], [0, 19, 32], [0, 19, 33], [0, 20, 22, 25, 30, 33], [0, 20, 22, 25, 31], [0, 20, 22, 25, 32], [0, 20, 22, 26, 30, 33], [0, 20, 22, 26, 31], [0, 20, 22, 26, 32], [0, 20, 22, 30, 33], [0, 20, 22, 31], [0, 20, 22, 32], [0, 20, 22, 33], [0, 20, 23, 25, 30, 33], [0, 20, 23, 25, 31], [0, 20, 23, 25, 32], [0, 20, 23, 26, 30, 33], [0, 20, 23, 26, 31], [0, 20, 23, 26, 32], [0, 20, 23, 27, 30, 33], [0, 20, 23, 27, 31], [0, 20, 23, 27, 32], [0, 20, 23, 32], [0, 20, 23, 33], [0, 20, 24, 25, 30, 33], [0, 20, 24, 25, 31], [0, 20, 24, 25, 32], [0, 20, 24, 26, 30, 33], [0, 20, 24, 26, 31], [0, 20, 24, 26, 32], [0, 20, 24, 27, 30, 33], [0, 20, 24, 27, 31], [0, 20, 24, 27, 32], [0, 20, 24, 28, 32], [0, 20, 24, 29, 32], [0, 20, 24, 30, 33], [0, 20, 24, 31], [0, 20, 27, 30, 33], [0, 20, 27, 31], [0, 20, 27, 32], [0, 20, 28, 32], [0, 20, 29, 32], [0, 20, 30, 33], [0, 20, 31], [0, 20, 32], [0, 20, 33], [0, 21, 30, 33], [0, 21, 31], [0, 21, 32], [0, 21, 33], [0, 22, 25, 30, 33], [0, 22, 25, 31], [0, 22, 25, 32], [0, 22, 26, 30, 33], [0, 22, 26, 31], [0, 22, 26, 32], [0, 22, 30, 33], [0, 22, 31], [0, 22, 32], [0, 22, 33], [0, 23, 25, 30, 33], [0, 23, 25, 31], [0, 23, 25, 32], [0, 23, 26, 30, 33], [0, 23, 26, 31], [0, 23, 26, 32], [0, 23, 27, 30, 33], [0, 23, 27, 31], [0, 23, 27, 32], [0, 23, 32], [0, 23, 33], [0, 24, 25, 30, 33], [0, 24, 25, 31], [0, 24, 25, 32], [0, 24, 26, 30, 33], [0, 24, 26, 31], [0, 24, 26, 32], [0, 24, 27, 30, 33], [0, 24, 27, 31], [0, 24, 27, 32], [0, 24, 28, 32], [0, 24, 29, 32], [0, 24, 30, 33], [0, 24, 31], [0, 25, 30, 33], [0, 25, 31], [0, 25, 32], [0, 26, 30, 33], [0, 26, 31], [0, 26, 32], [0, 27, 30, 33], [0, 27, 31], [0, 27, 32], [0, 28, 32], [0, 29, 32], [0, 30, 33], [0, 31], [0, 32], [0, 33]]\n"
     ]
    }
   ],
   "source": [
    "def path(graph,start,p=[]):\n",
    "    '''This function give complete paths from each pallindrome'''\n",
    "    p = p + [start]\n",
    "    if graph[start] == []:\n",
    "        return [p]\n",
    "    paths = []\n",
    "    for node in graph[start]:\n",
    "        if node not in p:\n",
    "            new_paths = path(graph,node,p)\n",
    "            for new_path in new_paths:\n",
    "                paths.append(new_path)\n",
    "    return paths\n",
    "test_path = path(test_graph, 0)\n",
    "print(test_path)"
   ]
  },
  {
   "cell_type": "code",
   "execution_count": 17,
   "metadata": {},
   "outputs": [
    {
     "name": "stdout",
     "output_type": "stream",
     "text": [
      "[0, 7, 10, 18, 22, 25, 30, 33]\n"
     ]
    }
   ],
   "source": [
    "dagged_data = dag(test_path)\n",
    "print(dagged_data)"
   ]
  },
  {
   "cell_type": "code",
   "execution_count": 18,
   "metadata": {},
   "outputs": [
    {
     "name": "stdout",
     "output_type": "stream",
     "text": [
      "[253]\n"
     ]
    }
   ],
   "source": [
    "fingerprints = fingerprint(dagged_data, palindrome)\n",
    "print(fingerprints)"
   ]
  },
  {
   "cell_type": "code",
   "execution_count": null,
   "metadata": {},
   "outputs": [],
   "source": [
    "# shuffle sequences from rfam family\n",
    "# to introduce randomness "
   ]
  },
  {
   "cell_type": "code",
   "execution_count": 4,
   "metadata": {},
   "outputs": [
    {
     "data": {
      "text/plain": [
       "list"
      ]
     },
     "execution_count": 4,
     "metadata": {},
     "output_type": "execute_result"
    }
   ],
   "source": [
    "type(os.listdir('../../../Dataset/16S/'))"
   ]
  },
  {
   "cell_type": "code",
   "execution_count": null,
   "metadata": {},
   "outputs": [],
   "source": [
    "## creation of fake families, get a distribution of how non-meaninful data would look like.\n",
    "## "
   ]
  }
 ],
 "metadata": {
  "kernelspec": {
   "display_name": "base",
   "language": "python",
   "name": "python3"
  },
  "language_info": {
   "codemirror_mode": {
    "name": "ipython",
    "version": 3
   },
   "file_extension": ".py",
   "mimetype": "text/x-python",
   "name": "python",
   "nbconvert_exporter": "python",
   "pygments_lexer": "ipython3",
   "version": "3.9.7"
  },
  "orig_nbformat": 4
 },
 "nbformat": 4,
 "nbformat_minor": 2
}
