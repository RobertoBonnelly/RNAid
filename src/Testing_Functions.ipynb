{
 "cells": [
  {
   "cell_type": "code",
   "execution_count": 2,
   "metadata": {},
   "outputs": [],
   "source": [
    "#!/usr/bin/env python\n",
    "'''Project: Towards the development of a simple fingerprint representation for\n",
    "the efficient comparison and clustering of large datasets of RNA sequences\n",
    "By: Abdulvahab Kharadi\n",
    "First supervisor Name: Irilenia Nobeli\n",
    "Date: 01/06/20\n",
    "version: v2.0.0'''\n",
    "\n",
    "# importing required module\n",
    "from sys import argv\n",
    "import cgi\n",
    "#import cgitb\n",
    "import hashlib\n",
    "import re\n",
    "import os\n",
    "#cgitb.enable()\n",
    "\n",
    "def get_data(temp_out = 'temp.out'):\n",
    "    refine_data = []\n",
    "    with open (temp_out, 'r') as f:\n",
    "        lines = f.read().splitlines()\n",
    "        #print(lines)\n",
    "        if lines:     \n",
    "            seq_name = lines.pop(0)\n",
    "        #print(seq_name)\n",
    "            seq_name=re.sub(\".fa\\s\\sFORWARD\",\"\",re.sub(\">\",\"\",seq_name))\n",
    "       \n",
    "        #seq_name=re.sub(\".fa\\s\\sFORWARD\",\"\",seq_name)\n",
    "        #print(seq_name)\n",
    "        #s = re.match('^(\\>)(\\w+\\.\\w+\\.*)(\\.fa.+)',seq_name)\n",
    "        #seq_name = s.groups(0)\n",
    "            data = [line.split() for line in lines]\n",
    "            refine_data = [d for d in data if d[0] != 'None' and float(d[0]) < 0]\n",
    "            return seq_name, refine_data\n",
    "\n",
    "def process_fa(temp_fa, temp_out=\"temp.out\"):\n",
    "        os.system(\"transterm/2ndscore --no-rvs {} > {}\".format(temp_fa, temp_out))\n",
    "        #os.system(\"rm {}\".format(temp_out))\n",
    "\n",
    "def palindromes(data):\n",
    "    '''This function take data from a file and return a list of palindromes.\n",
    "    Each palindrome represented by a four cordinate, two for left steam and two for right steam'''\n",
    "    palindrome= []\n",
    "    for i in range(1,len(data)):\n",
    "        word = data[i]\n",
    "        energy = float(word[0])\n",
    "        start = int(word[1])\n",
    "        lsteam = re.sub('-','',word[5])           #Left steam of a pallindrome,cleaning data\n",
    "        rsteam = re.sub('-','',word[7])           #Right steam of a pallindrome,cleaning data\n",
    "        loop = word[6]\n",
    "        length = int(word[3])\n",
    "        p = [start,start+len(lsteam)-1,length-len(rsteam)+1,length]\n",
    "        palindrome.append(p)\n",
    "    return sorted(palindrome)                     # sorting list accrding to start position"
   ]
  },
  {
   "cell_type": "code",
   "execution_count": 3,
   "metadata": {},
   "outputs": [],
   "source": [
    "def relation(p1,p2):\n",
    "    '''This function take list of palindromes and return relationship between two palindromes in form of a Letter.\n",
    "    Where O=overlapping,S=serial,X=exclusive,I=Included'''\n",
    "    if p1[1] < p2[0] and p1[2] > p2[1] and p1[3] < p2[2]:\n",
    "        return 'O'\n",
    "    elif p1[1]<p2[0] and p1[2] > p2[3] :\n",
    "        return 'I'\n",
    "    elif p1[3] < p2[0]:\n",
    "        return 'S'\n",
    "    else:\n",
    "        return 'X'"
   ]
  },
  {
   "cell_type": "code",
   "execution_count": 4,
   "metadata": {},
   "outputs": [],
   "source": [
    "def pgraph(palindrome):\n",
    "    '''This function give graph from each pallindrome (consider as Node) to another pallindrome.\n",
    "    There is no path between pallindrome having Exclusive(X) relation.\n",
    "    Rerurns dictionary which has Node as key and list of paths from that node as list'''\n",
    "    #palindrome = palindromes()\n",
    "    #print(len(palindrome))\n",
    "    graph = {}\n",
    "    for i in range(len(palindrome)):\n",
    "        path = []\n",
    "        for j in range(i,len(palindrome)):\n",
    "            r = relation(palindrome[i],palindrome[j])\n",
    "            if r != 'X':\n",
    "                path.append(j)\n",
    "                graph[i] = path\n",
    "            else:\n",
    "                graph[i] = path\n",
    "    print(graph)\n",
    "    return graph"
   ]
  },
  {
   "cell_type": "code",
   "execution_count": 5,
   "metadata": {},
   "outputs": [],
   "source": [
    "def path(graph,start,p=[]):\n",
    "    '''This function give complete paths from each pallindrome'''\n",
    "    p = p + [start]\n",
    "    if graph[start] == []:\n",
    "        return [p]\n",
    "    paths = []\n",
    "    for node in graph[start]:\n",
    "        if node not in p:\n",
    "            new_paths = path(graph,node,p)\n",
    "            for new_path in new_paths:\n",
    "                paths.append(new_path)\n",
    "    return paths"
   ]
  },
  {
   "cell_type": "code",
   "execution_count": 6,
   "metadata": {},
   "outputs": [],
   "source": [
    "def dag(paths):\n",
    "    for p in sorted(paths):\n",
    "        for j in range(len(paths)-1):\n",
    "            if set(p) < set(paths[j]):\n",
    "                try:\n",
    "                    paths.remove(p)\n",
    "                    #da_graph = paths\n",
    "                except:\n",
    "                    next\n",
    "                    continue\n",
    "    return max(paths, key=len)"
   ]
  },
  {
   "cell_type": "code",
   "execution_count": 7,
   "metadata": {},
   "outputs": [],
   "source": [
    "def fingerprint(da_graph,palindrome):\n",
    "    '''This function provides a fingerprint for path from each node. We use hashlib to convert\n",
    "    character presenting relation into a hash number'''\n",
    "    paths_fingerprint = []\n",
    "    i =0\n",
    "    fp = ''\n",
    "    while i<len(da_graph)-1:\n",
    "        fp += relation(palindrome[i],palindrome[i+1])\n",
    "        i += 1\n",
    "    bfp = fp.encode('utf-8')                            #turn string into byte string\n",
    "    hfp = hashlib.sha256(bfp)                           #turn bytes into hash object\n",
    "    index= int(hfp.hexdigest(), 16) % 10**3\n",
    "    paths_fingerprint.append(index)\n",
    "    return paths_fingerprint"
   ]
  },
  {
   "cell_type": "code",
   "execution_count": 8,
   "metadata": {},
   "outputs": [],
   "source": [
    "def tanimoto(s1, s2):\n",
    "    s12 = set(s1).intersection(set(s2))\n",
    "    tan = len(s12)/(len(s1) + len(s2) - len(s12))\n",
    "    return tan"
   ]
  },
  {
   "cell_type": "code",
   "execution_count": 9,
   "metadata": {},
   "outputs": [],
   "source": [
    "def accuracy(tan):\n",
    "    if tan >= 0.8 :\n",
    "        return tan80\n",
    "    elif tan >= 0.6 and tan < 0.8:\n",
    "        return tan60\n",
    "    elif tan >= 0.4 and tan < 0.6:\n",
    "        return tan40\n",
    "    elif tan >= 0.2 and tan < 0.4:\n",
    "        return tan20\n",
    "    else:\n",
    "        return tanbad"
   ]
  },
  {
   "cell_type": "code",
   "execution_count": 10,
   "metadata": {},
   "outputs": [],
   "source": [
    "def run(filename=argv[1],result= {}):\n",
    "    with open (filename,'r') as f:\n",
    "        sequences = f.read().splitlines()\n",
    "    i = 0\n",
    "    while i < len(sequences):\n",
    "        deal_single_seq(sequences,i)\n",
    "        (seq_name, refine_data) = get_data()\n",
    "        palindrome = palindromes(refine_data)\n",
    "        graph = pgraph(palindrome)\n",
    "        paths = path(graph,0)\n",
    "        da_graph = dag(paths)\n",
    "        paths_fingerprint = fingerprint(da_graph,palindrome)\n",
    "        result[seq_name] = paths_fingerprint\n",
    "        i += 2\n",
    "    return result"
   ]
  },
  {
   "cell_type": "code",
   "execution_count": 11,
   "metadata": {},
   "outputs": [],
   "source": [
    "def run_new(dir,result={}):\n",
    "    for file in os.listdir(dir):\n",
    "        temp_fa=f'{dir}/{file}'\n",
    "        process_fa(temp_fa)\n",
    "        (seq_name, refine_data) = get_data()\n",
    "        print(\"1st and 2nd task completed: data_mining model\")\n",
    "        palindrome = palindromes(refine_data)\n",
    "        print(\"palindrome function completed\")\n",
    "        graph = pgraph(palindrome)\n",
    "        '''graph = {0:[1,2,3,7,9],\n",
    "                1:[4,7],\n",
    "                2:[4,5,8],\n",
    "                3:[8],\n",
    "                4:[],\n",
    "                5:[8],\n",
    "                6:[],\n",
    "                7:[],\n",
    "                8:[],\n",
    "                9:[]}'''\n",
    "        print(\"graph function completed\")\n",
    "        paths = path(graph,0)\n",
    "        print(\"paths generated\")\n",
    "        da_graph = dag(paths)\n",
    "        print(\"dag completed\")\n",
    "        paths_fingerprint = fingerprint(da_graph,palindrome)\n",
    "        result[seq_name] = paths_fingerprint\n",
    "        print(\"fingerprint generated\")\n",
    "    return result"
   ]
  },
  {
   "cell_type": "code",
   "execution_count": 12,
   "metadata": {},
   "outputs": [
    {
     "name": "stdout",
     "output_type": "stream",
     "text": [
      "[' 3.9       1 ..      11   xxxxxxxxxxxxxxx                -ATG AAAG CATT                 CTGGCGTAACGCCGC', ' 3.9       2 ..      12   xxxxxxxxxxxxxxA                TGAA AGCA TTC-                 TGGCGTAACGCCGCG', ' 1.4       2 ..      13   xxxxxxxxxxxxxxA                TGAA AGCA TTCT                 GGCGTAACGCCGCGT', ' 4.9       1 ..      14   xxxxxxxxxxxxxxx               ATGAA AGCA TTCTG                GCGTAACGCCGCGTT', ' 5.8       4 ..      15   xxxxxxxxxxxxATG                AAAG CATT CTGG                 CGTAACGCCGCGTTG', ' 3.5       3 ..      16   xxxxxxxxxxxxxAT               GAAAG CATT CTGGC                GTAACGCCGCGTTGC', ' 2.9       6 ..      17   xxxxxxxxxxATGAA                AGC ATTCTG GCG                 TAACGCCGCGTTGCT', '   2       5 ..      18   xxxxxxxxxxxATGA               AAGC ATTCTG GCGT                AACGCCGCGTTGCTC', ' 5.5       4 ..      19   xxxxxxxxxxxxATG              AAAGC ATTCTG GCGTA               ACGCCGCGTTGCTCG', ' 3.2      10 ..      20   xxxxxxATGAAAGCA                 TT CTGGCGT AA                 CGCCGCGTTGCTCGC', ' 6.7       9 ..      21   xxxxxxxATGAAAGC                ATT CTGGCGT AAC                GCCGCGTTGCTCGCG', ' 4.4       8 ..      22   xxxxxxxxATGAAAG               CATT CTGGCGT AACG               CCGCGTTGCTCGCGG', ' 2.1       7 ..      23   xxxxxxxxxATGAAA              GCATT CTGGCGT AACGC              CGCGTTGCTCGCGGT', '-8.2      14 ..      24   xxATGAAAGCATTCT                 GGCG TAA CGCC                 GCGTTGCTCGCGGTT', '-6.9      13 ..      25   xxxATGAAAGCATTC                TGGCG TAA CGCCG                CGTTGCTCGCGGTTT', '-3.4      12 ..      26   xxxxATGAAAGCATT               CTGGCG TAA CGCCGC               GTTGCTCGCGGTTTC', '-3.2      12 ..      27   xxxxATGAAAGCATT              C-TGGCG TAA CGCCGCG              TTGCTCGCGGTTTCT', '-0.6       9 ..      28   xxxxxxxATGAAAGC            ATTCTGGCG TAA CGCC-GCGT            TGCTCGCGGTTTCTC', '-5.4      19 ..      29   AAAGCATTCTGGCGT                 AACG CCG CGTT                 GCTCGCGGTTTCTCT', '-4.1      18 ..      30   GAAAGCATTCTGGCG                TAACG CCG CGTTG                CTCGCGGTTTCTCTG', '-6.4      17 ..      31   TGAAAGCATTCTGGC               GTAACG CCG CGTTGC               TCGCGGTTTCTCTGC', '  -5       6 ..      32   xxxxxxxxxxATGAA         AGCATTCTGGCG TAA CGCCGCGTTGCT         CGCGGTTTCTCTGCT', '-5.2      15 ..      33   xATGAAAGCATTCTG             GCGTAACG CCG CGTTGCTC             GCGGTTTCTCTGCTT', '-2.4      24 ..      34   ATTCTGGCGTAACGC                 CGCG TTG CTCG                 CGGTTTCTCTGCTTC', '-3.9      25 ..      35   TTCTGGCGTAACGCC                 GCG TTGCT CGC                 GGTTTCTCTGCTTCC', '-6.2      24 ..      36   ATTCTGGCGTAACGC                CGCG TTGCT CGCG                GTTTCTCTGCTTCCC', '-8.5      23 ..      37   CATTCTGGCGTAACG               CCGCG TTGCT CGCGG               TTTCTCTGCTTCCCT', '-7.2      22 ..      38   GCATTCTGGCGTAAC              GCCGCG TTGCT CGCGGT              TTCTCTGCTTCCCTT', '-3.7      21 ..      39   AGCATTCTGGCGTAA             CGCCGCG TTGCT CGCGGTT             TCTCTGCTTCCCTTC', '-4.6      20 ..      40   AAGCATTCTGGCGTA            ACGCCGCG TTGCT CGCGGTTT            CTCTGCTTCCCTTCT', '-1.1      19 ..      41   AAAGCATTCTGGCGT           AACGCCGCG TTGCT CGCGGTTTC           TCTGCTTCCCTTCTC', ' 0.5      19 ..      42   AAAGCATTCTGGCGT          A-ACGCCGCG TTGCT CGCGGTTTCT          CTGCTTCCCTTCTCT', ' 0.1      17 ..      43   TGAAAGCATTCTGGC         GTAACGCCGCG TTGCT CGCGGTTTCTC         TGCTTCCCTTCTCTT', ' 3.2      14 ..      44   xxATGAAAGCATTCT      GGCGTAACGCCGCG TTGCT CGCGGT-TT-CTCT      GCTTCCCTTCTCTTC', '-0.3      35 ..      45   ACGCCGCGTTGCTCG                 CGG TTTCT CTG                 CTTCCCTTCTCTTCT', '-2.6      34 ..      46   AACGCCGCGTTGCTC                GCGG TTTCT CTGC                TTCCCTTCTCTTCTG', ' 0.9      33 ..      47   TAACGCCGCGTTGCT               CGCGG TTTCT CTGCT               TCCCTTCTCTTCTGC', ' 4.4      32 ..      48   GTAACGCCGCGTTGC              TCGCGG TTTCT CTGCTT              CCCTTCTCTTCTGCC', ' 5.5      34 ..      49   AACGCCGCGTTGCTC              GCGGT TTCTCT GCTTC               CCTTCTCTTCTGCCA', ' 4.4      36 ..      50   CGCCGCGTTGCTCGC               GG TTTCTCTGCTT CC               CTTCTCTTCTGCCAA', ' 5.4      36 ..      51   CGCCGCGTTGCTCGC              GG TTTCTCTGCTTC CC               TTCTCTTCTGCCAAC', ' 8.9      35 ..      52   ACGCCGCGTTGCTCG             CGG TTTCTCTGCTTC CCT              TCTCTTCTGCCAACG', ' 7.7      43 ..      53   TTGCTCGCGGTTTCT                 CTG CTTCC CTT                 CTCTTCTGCCAACGC', 'None      44 ..      54   TGCTCGCGGTTTCTC                  TGCTTCCCTTC                  TCTTCTGCCAACGCC', ' 7.2      44 ..      55   TGCTCGCGGTTTCTC                TG CTTCCCTT CT                 CTTCTGCCAACGCCT', ' 5.7      45 ..      56   GCTCGCGGTTTCTCT                G CTTCCCTTCT C                 TTCTGCCAACGCCTx', 'None      47 ..      57   TCGCGGTTTCTCTGC                  TTCCCTTCTCT                  TCTGCCAACGCCTxx', 'None      48 ..      58   CGCGGTTTCTCTGCT                  TCCCTTCTCTT                  CTGCCAACGCCTxxx', ' 8.7      45 ..      59   GCTCGCGGTTTCTCT               G CTTCCCTTCTCTT C               TGCCAACGCCTxxxx', 'None      50 ..      60   CGGTTTCTCTGCTTC                  CCTTCTCTTCT                  GCCAACGCCTxxxxx', ' 4.7      51 ..      61   GGTTTCTCTGCTTCC                 C TTCTCTTCT G                 CCAACGCCTxxxxxx', ' 8.2      50 ..      62   CGGTTTCTCTGCTTC                CC TTCTCTTCT GC                CAACGCCTxxxxxxx', ' 8.7      52 ..      63   GTTTCTCTGCTTCCC                TTC TCTTCT GCC                 AACGCCTxxxxxxxx', ' 5.8      53 ..      64   TTTCTCTGCTTCCCT                TCTC TTCT GCCA                 ACGCCTxxxxxxxxx', ' 4.9      52 ..      65   GTTTCTCTGCTTCCC               TTCTC TTCT GCCAA                CGCCTxxxxxxxxxx', ' 4.7      56 ..      66   CTCTGCTTCCCTTCT                 CTT CTGCC AAC                 GCCTxxxxxxxxxxx', ' 4.3      56 ..      67   CTCTGCTTCCCTTCT                CTT CTGCCA ACG                 CCTxxxxxxxxxxxx', ' 6.2      58 ..      68   CTGCTTCCCTTCTCT                 TC TGCCAAC GC                 CTxxxxxxxxxxxxx', ' 6.9      59 ..      69   TGCTTCCCTTCTCTT                CTGC CAAC GCC-                 Txxxxxxxxxxxxxx']\n",
      "[['3.9', '1', '..', '11', 'xxxxxxxxxxxxxxx', '-ATG', 'AAAG', 'CATT', 'CTGGCGTAACGCCGC'], ['3.9', '2', '..', '12', 'xxxxxxxxxxxxxxA', 'TGAA', 'AGCA', 'TTC-', 'TGGCGTAACGCCGCG'], ['1.4', '2', '..', '13', 'xxxxxxxxxxxxxxA', 'TGAA', 'AGCA', 'TTCT', 'GGCGTAACGCCGCGT'], ['4.9', '1', '..', '14', 'xxxxxxxxxxxxxxx', 'ATGAA', 'AGCA', 'TTCTG', 'GCGTAACGCCGCGTT'], ['5.8', '4', '..', '15', 'xxxxxxxxxxxxATG', 'AAAG', 'CATT', 'CTGG', 'CGTAACGCCGCGTTG'], ['3.5', '3', '..', '16', 'xxxxxxxxxxxxxAT', 'GAAAG', 'CATT', 'CTGGC', 'GTAACGCCGCGTTGC'], ['2.9', '6', '..', '17', 'xxxxxxxxxxATGAA', 'AGC', 'ATTCTG', 'GCG', 'TAACGCCGCGTTGCT'], ['2', '5', '..', '18', 'xxxxxxxxxxxATGA', 'AAGC', 'ATTCTG', 'GCGT', 'AACGCCGCGTTGCTC'], ['5.5', '4', '..', '19', 'xxxxxxxxxxxxATG', 'AAAGC', 'ATTCTG', 'GCGTA', 'ACGCCGCGTTGCTCG'], ['3.2', '10', '..', '20', 'xxxxxxATGAAAGCA', 'TT', 'CTGGCGT', 'AA', 'CGCCGCGTTGCTCGC'], ['6.7', '9', '..', '21', 'xxxxxxxATGAAAGC', 'ATT', 'CTGGCGT', 'AAC', 'GCCGCGTTGCTCGCG'], ['4.4', '8', '..', '22', 'xxxxxxxxATGAAAG', 'CATT', 'CTGGCGT', 'AACG', 'CCGCGTTGCTCGCGG'], ['2.1', '7', '..', '23', 'xxxxxxxxxATGAAA', 'GCATT', 'CTGGCGT', 'AACGC', 'CGCGTTGCTCGCGGT'], ['-8.2', '14', '..', '24', 'xxATGAAAGCATTCT', 'GGCG', 'TAA', 'CGCC', 'GCGTTGCTCGCGGTT'], ['-6.9', '13', '..', '25', 'xxxATGAAAGCATTC', 'TGGCG', 'TAA', 'CGCCG', 'CGTTGCTCGCGGTTT'], ['-3.4', '12', '..', '26', 'xxxxATGAAAGCATT', 'CTGGCG', 'TAA', 'CGCCGC', 'GTTGCTCGCGGTTTC'], ['-3.2', '12', '..', '27', 'xxxxATGAAAGCATT', 'C-TGGCG', 'TAA', 'CGCCGCG', 'TTGCTCGCGGTTTCT'], ['-0.6', '9', '..', '28', 'xxxxxxxATGAAAGC', 'ATTCTGGCG', 'TAA', 'CGCC-GCGT', 'TGCTCGCGGTTTCTC'], ['-5.4', '19', '..', '29', 'AAAGCATTCTGGCGT', 'AACG', 'CCG', 'CGTT', 'GCTCGCGGTTTCTCT'], ['-4.1', '18', '..', '30', 'GAAAGCATTCTGGCG', 'TAACG', 'CCG', 'CGTTG', 'CTCGCGGTTTCTCTG'], ['-6.4', '17', '..', '31', 'TGAAAGCATTCTGGC', 'GTAACG', 'CCG', 'CGTTGC', 'TCGCGGTTTCTCTGC'], ['-5', '6', '..', '32', 'xxxxxxxxxxATGAA', 'AGCATTCTGGCG', 'TAA', 'CGCCGCGTTGCT', 'CGCGGTTTCTCTGCT'], ['-5.2', '15', '..', '33', 'xATGAAAGCATTCTG', 'GCGTAACG', 'CCG', 'CGTTGCTC', 'GCGGTTTCTCTGCTT'], ['-2.4', '24', '..', '34', 'ATTCTGGCGTAACGC', 'CGCG', 'TTG', 'CTCG', 'CGGTTTCTCTGCTTC'], ['-3.9', '25', '..', '35', 'TTCTGGCGTAACGCC', 'GCG', 'TTGCT', 'CGC', 'GGTTTCTCTGCTTCC'], ['-6.2', '24', '..', '36', 'ATTCTGGCGTAACGC', 'CGCG', 'TTGCT', 'CGCG', 'GTTTCTCTGCTTCCC'], ['-8.5', '23', '..', '37', 'CATTCTGGCGTAACG', 'CCGCG', 'TTGCT', 'CGCGG', 'TTTCTCTGCTTCCCT'], ['-7.2', '22', '..', '38', 'GCATTCTGGCGTAAC', 'GCCGCG', 'TTGCT', 'CGCGGT', 'TTCTCTGCTTCCCTT'], ['-3.7', '21', '..', '39', 'AGCATTCTGGCGTAA', 'CGCCGCG', 'TTGCT', 'CGCGGTT', 'TCTCTGCTTCCCTTC'], ['-4.6', '20', '..', '40', 'AAGCATTCTGGCGTA', 'ACGCCGCG', 'TTGCT', 'CGCGGTTT', 'CTCTGCTTCCCTTCT'], ['-1.1', '19', '..', '41', 'AAAGCATTCTGGCGT', 'AACGCCGCG', 'TTGCT', 'CGCGGTTTC', 'TCTGCTTCCCTTCTC'], ['0.5', '19', '..', '42', 'AAAGCATTCTGGCGT', 'A-ACGCCGCG', 'TTGCT', 'CGCGGTTTCT', 'CTGCTTCCCTTCTCT'], ['0.1', '17', '..', '43', 'TGAAAGCATTCTGGC', 'GTAACGCCGCG', 'TTGCT', 'CGCGGTTTCTC', 'TGCTTCCCTTCTCTT'], ['3.2', '14', '..', '44', 'xxATGAAAGCATTCT', 'GGCGTAACGCCGCG', 'TTGCT', 'CGCGGT-TT-CTCT', 'GCTTCCCTTCTCTTC'], ['-0.3', '35', '..', '45', 'ACGCCGCGTTGCTCG', 'CGG', 'TTTCT', 'CTG', 'CTTCCCTTCTCTTCT'], ['-2.6', '34', '..', '46', 'AACGCCGCGTTGCTC', 'GCGG', 'TTTCT', 'CTGC', 'TTCCCTTCTCTTCTG'], ['0.9', '33', '..', '47', 'TAACGCCGCGTTGCT', 'CGCGG', 'TTTCT', 'CTGCT', 'TCCCTTCTCTTCTGC'], ['4.4', '32', '..', '48', 'GTAACGCCGCGTTGC', 'TCGCGG', 'TTTCT', 'CTGCTT', 'CCCTTCTCTTCTGCC'], ['5.5', '34', '..', '49', 'AACGCCGCGTTGCTC', 'GCGGT', 'TTCTCT', 'GCTTC', 'CCTTCTCTTCTGCCA'], ['4.4', '36', '..', '50', 'CGCCGCGTTGCTCGC', 'GG', 'TTTCTCTGCTT', 'CC', 'CTTCTCTTCTGCCAA'], ['5.4', '36', '..', '51', 'CGCCGCGTTGCTCGC', 'GG', 'TTTCTCTGCTTC', 'CC', 'TTCTCTTCTGCCAAC'], ['8.9', '35', '..', '52', 'ACGCCGCGTTGCTCG', 'CGG', 'TTTCTCTGCTTC', 'CCT', 'TCTCTTCTGCCAACG'], ['7.7', '43', '..', '53', 'TTGCTCGCGGTTTCT', 'CTG', 'CTTCC', 'CTT', 'CTCTTCTGCCAACGC'], ['None', '44', '..', '54', 'TGCTCGCGGTTTCTC', 'TGCTTCCCTTC', 'TCTTCTGCCAACGCC'], ['7.2', '44', '..', '55', 'TGCTCGCGGTTTCTC', 'TG', 'CTTCCCTT', 'CT', 'CTTCTGCCAACGCCT'], ['5.7', '45', '..', '56', 'GCTCGCGGTTTCTCT', 'G', 'CTTCCCTTCT', 'C', 'TTCTGCCAACGCCTx'], ['None', '47', '..', '57', 'TCGCGGTTTCTCTGC', 'TTCCCTTCTCT', 'TCTGCCAACGCCTxx'], ['None', '48', '..', '58', 'CGCGGTTTCTCTGCT', 'TCCCTTCTCTT', 'CTGCCAACGCCTxxx'], ['8.7', '45', '..', '59', 'GCTCGCGGTTTCTCT', 'G', 'CTTCCCTTCTCTT', 'C', 'TGCCAACGCCTxxxx'], ['None', '50', '..', '60', 'CGGTTTCTCTGCTTC', 'CCTTCTCTTCT', 'GCCAACGCCTxxxxx'], ['4.7', '51', '..', '61', 'GGTTTCTCTGCTTCC', 'C', 'TTCTCTTCT', 'G', 'CCAACGCCTxxxxxx'], ['8.2', '50', '..', '62', 'CGGTTTCTCTGCTTC', 'CC', 'TTCTCTTCT', 'GC', 'CAACGCCTxxxxxxx'], ['8.7', '52', '..', '63', 'GTTTCTCTGCTTCCC', 'TTC', 'TCTTCT', 'GCC', 'AACGCCTxxxxxxxx'], ['5.8', '53', '..', '64', 'TTTCTCTGCTTCCCT', 'TCTC', 'TTCT', 'GCCA', 'ACGCCTxxxxxxxxx'], ['4.9', '52', '..', '65', 'GTTTCTCTGCTTCCC', 'TTCTC', 'TTCT', 'GCCAA', 'CGCCTxxxxxxxxxx'], ['4.7', '56', '..', '66', 'CTCTGCTTCCCTTCT', 'CTT', 'CTGCC', 'AAC', 'GCCTxxxxxxxxxxx'], ['4.3', '56', '..', '67', 'CTCTGCTTCCCTTCT', 'CTT', 'CTGCCA', 'ACG', 'CCTxxxxxxxxxxxx'], ['6.2', '58', '..', '68', 'CTGCTTCCCTTCTCT', 'TC', 'TGCCAAC', 'GC', 'CTxxxxxxxxxxxxx'], ['6.9', '59', '..', '69', 'TGCTTCCCTTCTCTT', 'CTGC', 'CAAC', 'GCC-', 'Txxxxxxxxxxxxxx']]\n"
     ]
    }
   ],
   "source": [
    "path = r\"C:\\Users\\rober\\OneDrive\\Desktop\\MSc_Bioinformatics\\Thesis\\RNAid-develop\\RNAid-develop\\hairpins_noreverse.out\"\n",
    "f = open(path, 'r')\n",
    "test_data = f.read().splitlines()\n",
    "test_data.pop(0)\n",
    "print(test_data)\n",
    "my_lines = [d.split() for d in test_data]\n",
    "print(my_lines)"
   ]
  },
  {
   "cell_type": "code",
   "execution_count": 13,
   "metadata": {},
   "outputs": [
    {
     "name": "stdout",
     "output_type": "stream",
     "text": [
      "[['-8.2', '14', '..', '24', 'xxATGAAAGCATTCT', 'GGCG', 'TAA', 'CGCC', 'GCGTTGCTCGCGGTT'], ['-6.9', '13', '..', '25', 'xxxATGAAAGCATTC', 'TGGCG', 'TAA', 'CGCCG', 'CGTTGCTCGCGGTTT'], ['-3.4', '12', '..', '26', 'xxxxATGAAAGCATT', 'CTGGCG', 'TAA', 'CGCCGC', 'GTTGCTCGCGGTTTC'], ['-3.2', '12', '..', '27', 'xxxxATGAAAGCATT', 'C-TGGCG', 'TAA', 'CGCCGCG', 'TTGCTCGCGGTTTCT'], ['-0.6', '9', '..', '28', 'xxxxxxxATGAAAGC', 'ATTCTGGCG', 'TAA', 'CGCC-GCGT', 'TGCTCGCGGTTTCTC'], ['-5.4', '19', '..', '29', 'AAAGCATTCTGGCGT', 'AACG', 'CCG', 'CGTT', 'GCTCGCGGTTTCTCT'], ['-4.1', '18', '..', '30', 'GAAAGCATTCTGGCG', 'TAACG', 'CCG', 'CGTTG', 'CTCGCGGTTTCTCTG'], ['-6.4', '17', '..', '31', 'TGAAAGCATTCTGGC', 'GTAACG', 'CCG', 'CGTTGC', 'TCGCGGTTTCTCTGC'], ['-5', '6', '..', '32', 'xxxxxxxxxxATGAA', 'AGCATTCTGGCG', 'TAA', 'CGCCGCGTTGCT', 'CGCGGTTTCTCTGCT'], ['-5.2', '15', '..', '33', 'xATGAAAGCATTCTG', 'GCGTAACG', 'CCG', 'CGTTGCTC', 'GCGGTTTCTCTGCTT'], ['-2.4', '24', '..', '34', 'ATTCTGGCGTAACGC', 'CGCG', 'TTG', 'CTCG', 'CGGTTTCTCTGCTTC'], ['-3.9', '25', '..', '35', 'TTCTGGCGTAACGCC', 'GCG', 'TTGCT', 'CGC', 'GGTTTCTCTGCTTCC'], ['-6.2', '24', '..', '36', 'ATTCTGGCGTAACGC', 'CGCG', 'TTGCT', 'CGCG', 'GTTTCTCTGCTTCCC'], ['-8.5', '23', '..', '37', 'CATTCTGGCGTAACG', 'CCGCG', 'TTGCT', 'CGCGG', 'TTTCTCTGCTTCCCT'], ['-7.2', '22', '..', '38', 'GCATTCTGGCGTAAC', 'GCCGCG', 'TTGCT', 'CGCGGT', 'TTCTCTGCTTCCCTT'], ['-3.7', '21', '..', '39', 'AGCATTCTGGCGTAA', 'CGCCGCG', 'TTGCT', 'CGCGGTT', 'TCTCTGCTTCCCTTC'], ['-4.6', '20', '..', '40', 'AAGCATTCTGGCGTA', 'ACGCCGCG', 'TTGCT', 'CGCGGTTT', 'CTCTGCTTCCCTTCT'], ['-1.1', '19', '..', '41', 'AAAGCATTCTGGCGT', 'AACGCCGCG', 'TTGCT', 'CGCGGTTTC', 'TCTGCTTCCCTTCTC'], ['-0.3', '35', '..', '45', 'ACGCCGCGTTGCTCG', 'CGG', 'TTTCT', 'CTG', 'CTTCCCTTCTCTTCT'], ['-2.6', '34', '..', '46', 'AACGCCGCGTTGCTC', 'GCGG', 'TTTCT', 'CTGC', 'TTCCCTTCTCTTCTG']]\n"
     ]
    }
   ],
   "source": [
    "def get_data(temp_out):\n",
    "    ## empty list\n",
    "    refine_data = []\n",
    "    ## opening hairpins.out file obtained\n",
    "    ## from 2ndscore\n",
    "    with open (temp_out, 'r') as f:\n",
    "        ## creating list off each line in .out file\n",
    "        lines = f.read().splitlines()\n",
    "        #print(lines)\n",
    "        ## extracting first line which corresponds\n",
    "        ## to identifier of the sequence\n",
    "        if lines:     \n",
    "            seq_name = lines.pop(0)\n",
    "            #print(seq_name)\n",
    "        ## eliminating the fasta identifier '>'\n",
    "            seq_name=re.sub(\">\",\"\",seq_name)\n",
    "        #seq_name=re.sub(\".fa\\s\\sFORWARD\",\"\",seq_name)\n",
    "        #print(seq_name)\n",
    "        #s = re.match('^(\\>)(\\w+\\.\\w+\\.*)(\\.fa.+)',seq_name)\n",
    "        #seq_name = s.groups(0)\n",
    "        ## data separates the file by a list of lists, transforming each line in the file\n",
    "        ## into a list of its own in order to better manipulate the key elements that will be used\n",
    "        ## in the rest of the code, like the free energy score (first element)\n",
    "            data = [line.split() for line in lines]\n",
    "        ## refine data curates lines with a low free energy scores (0 or negative)\n",
    "            refine_data = [d for d in data if d[0] != 'None' and float(d[0]) <= 0]\n",
    "            return   seq_name, refine_data\n",
    "print(get_data(path)[1])\n",
    "test_refined_data = get_data(path)[1]"
   ]
  },
  {
   "cell_type": "code",
   "execution_count": 14,
   "metadata": {},
   "outputs": [
    {
     "name": "stdout",
     "output_type": "stream",
     "text": [
      "[[6, 17, 21, 32], [9, 17, 21, 28], [12, 17, 21, 26], [12, 17, 21, 27], [13, 17, 21, 25], [14, 17, 21, 24], [15, 22, 26, 33], [17, 22, 26, 31], [18, 22, 26, 30], [19, 22, 26, 29], [19, 27, 33, 41], [20, 27, 33, 40], [21, 27, 33, 39], [22, 27, 33, 38], [23, 27, 33, 37], [24, 27, 31, 34], [24, 27, 33, 36], [25, 27, 33, 35], [34, 37, 43, 46], [35, 37, 43, 45]]\n"
     ]
    }
   ],
   "source": [
    "def palindromes(data):\n",
    "    '''This function takes the refined data from a get_data and returns a list of palindromes.\n",
    "    Each palindrome represented by a four cordinate, two for left steam and two for right steam'''\n",
    "    ## creates empty list\n",
    "    palindrome= []\n",
    "    ## itirates through the refined data\n",
    "    for i in range(0,len(data)):\n",
    "        ## word divides each line in a list\n",
    "        word = data[i]\n",
    "        ## energy hasn't been used\n",
    "        energy = float(word[0])\n",
    "        ## start is the base where hairpin starts\n",
    "        start = int(word[1])\n",
    "        ## positions 5 and 7 tend to have -\n",
    "        ## here we remove them left being 5, and right 7\n",
    "        lsteam = re.sub('-','',word[5])           #Left steam of a pallindrome,cleaning data\n",
    "        rsteam = re.sub('-','',word[7])           #Right steam of a pallindrome,cleaning data\n",
    "        ## loop is apparently not used\n",
    "        loop = word[6]\n",
    "        ## index 3 represents the lenght of the hairpin\n",
    "        length = int(word[3])\n",
    "        ## let's figure why is this sequence of characters a palindrome\n",
    "        p = [start,start+len(lsteam)-1,length-len(rsteam)+1,length]\n",
    "        palindrome.append(p)\n",
    "    return sorted(palindrome)                     # sorting list accrding to start position\n",
    "\n",
    "for i in range(0,len(test_refined_data)):\n",
    "    word = test_refined_data[i]\n",
    "print(palindromes(test_refined_data))"
   ]
  },
  {
   "cell_type": "code",
   "execution_count": 35,
   "metadata": {},
   "outputs": [
    {
     "name": "stdout",
     "output_type": "stream",
     "text": [
      "[['-1', '33', '..', '43', 'TTAATCCGACTTTGA', 'CAAC', 'CGG', 'GATG', 'GACCTCTTACAGGTG'], ['-0.3', '38', '..', '48', 'CCGACTTTGACAACC', 'GGG', 'ATGGA', 'CCT', 'CTTACAGGTGGGAGA'], ['-2.5', '46', '..', '56', 'GACAACCGGGATGGA', 'CCT', 'CTTAC', 'AGG', 'TGGGAGAGACGGAAG'], ['-3.4', '45', '..', '57', 'TGACAACCGGGATGG', 'ACCT', 'CTTAC', 'AGGT', 'GGGAGAGACGGAAGT'], ['-0.1', '46', '..', '59', 'GACAACCGGGATGGA', 'CCTCT', 'TACA', 'GGTGG', 'GAGAGACGGAAGTAA'], ['-1.8', '47', '..', '62', 'ACAACCGGGATGGAC', 'CTCTTA', 'CAGG', 'TGGGAG', 'AGACGGAAGTAAGGA'], ['-1.9', '47', '..', '64', 'ACAACCGGGATGGAC', 'CTCTTAC', 'AGGT', 'GGGAGAG', 'ACGGAAGTAAGGATA'], ['-5.4', '74', '..', '84', 'GGAGAGACGGAAGTA', 'AGGA', 'TAA', 'TCCT', 'GAAGGAACGCGCCxx'], ['-1.9', '73', '..', '85', 'GGGAGAGACGGAAGT', 'AAGGA', 'TAA', 'TCCTG', 'AAGGAACGCGCCxxx'], ['-2.8', '72', '..', '86', 'TGGGAGAGACGGAAG', 'TAAGGA', 'TAA', 'TCCTGA', 'AGGAACGCGCCxxxx'], ['0', '80', '..', '91', 'ACGGAAGTAAGGATA', 'ATCC', 'TGAA', 'GGAA', 'CGCGCCxxxxxxxxx']]\n",
      "None\n"
     ]
    }
   ],
   "source": [
    "def get_data(temp_out):\n",
    "    ## empty list\n",
    "    refine_data = []\n",
    "    ## opening hairpins.out file obtained\n",
    "    ## from 2ndscore\n",
    "    with open (temp_out, 'r') as f:\n",
    "        ## creating list off each line in .out file\n",
    "        lines = f.read().splitlines()\n",
    "        #print(lines)\n",
    "        ## extracting first line which corresponds\n",
    "        ## to identifier of the sequence\n",
    "        if lines:     \n",
    "            seq_name = lines.pop(0)\n",
    "            #print(seq_name)\n",
    "        ## eliminating the fasta identifier '>'\n",
    "            seq_name=re.sub(\">\",\"\",seq_name)\n",
    "        #seq_name=re.sub(\".fa\\s\\sFORWARD\",\"\",seq_name)\n",
    "        #print(seq_name)\n",
    "        #s = re.match('^(\\>)(\\w+\\.\\w+\\.*)(\\.fa.+)',seq_name)\n",
    "        #seq_name = s.groups(0)\n",
    "        ## data separates the file by a list of lists, where each item is separated\n",
    "        ## by the empty spaces, converting each item into a list of strings\n",
    "            data = [line.split() for line in lines]\n",
    "        ## refine data curates lines with a positive score\n",
    "            refine_data = [d for d in data if d[0] != 'None' and float(d[0]) <= 0]\n",
    "            return   seq_name, refine_data\n",
    "#print(get_data('../hairpins_noreverse.out'))\n",
    "refined_data = get_data('../Dataset/hairpins/sequence_1.fasta.out')\n",
    "refined_data2 = get_data('../Dataset/hairpins/glutII_1.fasta.out')\n",
    "refined_data3 = get_data('../Dataset/hairpins/glutII_9.fasta.out')\n",
    "refined_data4 = get_data('../Dataset/hairpins/sequence_15.fasta.out')\n",
    "refined_data5 = get_data('../Dataset/hairpins/sequence_8.fasta.out')\n",
    "empty_file = get_data('../test_data_compempty.out')\n",
    "print(refined_data[1])\n",
    "#print(palindromes(refined_data))\n",
    "print(empty_file)"
   ]
  },
  {
   "cell_type": "code",
   "execution_count": 16,
   "metadata": {},
   "outputs": [
    {
     "name": "stdout",
     "output_type": "stream",
     "text": [
      "[[33, 36, 40, 43], [38, 40, 46, 48], [45, 48, 54, 57], [46, 48, 54, 56], [46, 50, 55, 59], [47, 52, 57, 62], [47, 53, 58, 64], [72, 77, 81, 86], [73, 77, 81, 85], [74, 77, 81, 84], [80, 83, 88, 91]]\n",
      "[['-1', '33', '..', '43', 'TTAATCCGACTTTGA', 'CAAC', 'CGG', 'GATG', 'GACCTCTTACAGGTG'], ['-0.3', '38', '..', '48', 'CCGACTTTGACAACC', 'GGG', 'ATGGA', 'CCT', 'CTTACAGGTGGGAGA'], ['-2.5', '46', '..', '56', 'GACAACCGGGATGGA', 'CCT', 'CTTAC', 'AGG', 'TGGGAGAGACGGAAG'], ['-3.4', '45', '..', '57', 'TGACAACCGGGATGG', 'ACCT', 'CTTAC', 'AGGT', 'GGGAGAGACGGAAGT'], ['-0.1', '46', '..', '59', 'GACAACCGGGATGGA', 'CCTCT', 'TACA', 'GGTGG', 'GAGAGACGGAAGTAA'], ['-1.8', '47', '..', '62', 'ACAACCGGGATGGAC', 'CTCTTA', 'CAGG', 'TGGGAG', 'AGACGGAAGTAAGGA'], ['-1.9', '47', '..', '64', 'ACAACCGGGATGGAC', 'CTCTTAC', 'AGGT', 'GGGAGAG', 'ACGGAAGTAAGGATA'], ['-5.4', '74', '..', '84', 'GGAGAGACGGAAGTA', 'AGGA', 'TAA', 'TCCT', 'GAAGGAACGCGCCxx'], ['-1.9', '73', '..', '85', 'GGGAGAGACGGAAGT', 'AAGGA', 'TAA', 'TCCTG', 'AAGGAACGCGCCxxx'], ['-2.8', '72', '..', '86', 'TGGGAGAGACGGAAG', 'TAAGGA', 'TAA', 'TCCTGA', 'AGGAACGCGCCxxxx'], ['0', '80', '..', '91', 'ACGGAAGTAAGGATA', 'ATCC', 'TGAA', 'GGAA', 'CGCGCCxxxxxxxxx']]\n"
     ]
    }
   ],
   "source": [
    "def palindromes(data):\n",
    "    '''This function takes the refined data from a get_data and returns a list of palindromes.\n",
    "    Each palindrome represented by a four cordinate, two for left steam and two for right steam'''\n",
    "    ## creates empty list\n",
    "    palindrome= []\n",
    "    ## itirates through the refined data\n",
    "    for i in range(0,len(data)):\n",
    "        ## word divides each line in a list\n",
    "        word = data[i]\n",
    "        ## energy hasn't been used\n",
    "        energy = float(word[0])\n",
    "        ## start is the base where hairpin starts\n",
    "        start = int(word[1])\n",
    "        ## positions 5 and 7 tend to have -\n",
    "        ## here we remove them left being 5, and right 7\n",
    "        lsteam = re.sub('-','',word[5])           #Left steam of a pallindrome,cleaning data\n",
    "        rsteam = re.sub('-','',word[7])           #Right steam of a pallindrome,cleaning data\n",
    "        ## loop is apparently not used\n",
    "        loop = word[6]\n",
    "        ## index 3 represents the lenght of the hairpin\n",
    "        length = int(word[3])\n",
    "        ## let's figure why is this sequence of characters a palindrome\n",
    "        p = [start,start+len(lsteam)-1,length-len(rsteam)+1,length]\n",
    "        palindrome.append(p)\n",
    "    return sorted(palindrome)                     # sorting list accrding to start position\n",
    "print(palindromes(refined_data[1]))\n",
    "palindrome = palindromes(refined_data[1])\n",
    "graph_data = palindromes(refined_data[1])\n",
    "graph_data2 = palindromes(refined_data2[1])\n",
    "graph_data3 = palindromes(refined_data3[1])\n",
    "graph_data4 = palindromes(refined_data4[1])\n",
    "graph_data5 = palindromes(refined_data5[1])\n",
    "print(refined_data[1])"
   ]
  },
  {
   "cell_type": "code",
   "execution_count": 17,
   "metadata": {},
   "outputs": [
    {
     "name": "stdout",
     "output_type": "stream",
     "text": [
      "{0: [2, 3, 4, 5, 6, 7, 8, 9, 10], 1: [7, 8, 9, 10], 2: [7, 8, 9, 10], 3: [7, 8, 9, 10], 4: [7, 8, 9, 10], 5: [7, 8, 9, 10], 6: [7, 8, 9, 10], 7: [], 8: [], 9: [], 10: []}\n",
      "{0: [4, 5, 6], 1: [4, 5, 6], 2: [4, 5, 6], 3: [4, 5, 6], 4: [6], 5: [], 6: []}\n",
      "{0: [14, 15, 16], 1: [14, 15, 16], 2: [13, 14, 15, 16], 3: [13, 14, 15, 16], 4: [11, 12, 13, 14, 15, 16], 5: [11, 12, 13, 14, 15, 16], 6: [11, 12, 13, 14, 15, 16], 7: [11, 12, 13, 14, 15, 16], 8: [11, 12, 13, 14, 15, 16], 9: [11, 12, 13, 14, 15, 16], 10: [11, 12, 13, 14, 15, 16], 11: [16], 12: [], 13: [], 14: [], 15: [], 16: []}\n"
     ]
    }
   ],
   "source": [
    "def relation(p1,p2):\n",
    "    '''This function takes the list of palindromes and return relationship between two palindromes in form of a Letter.\n",
    "    Where O=overlapping,S=serial,X=exclusive,I=Included'''\n",
    "    if p1[1] < p2[0] and p1[2] > p2[1] and p1[3] < p2[2]:\n",
    "        return 'O'\n",
    "    elif p1[1]<p2[0] and p1[2] > p2[3] :\n",
    "        return 'I'\n",
    "    elif p1[3] < p2[0]:\n",
    "        return 'S'\n",
    "    else:\n",
    "        return 'X'\n",
    "\n",
    "def pgraph(palindrome):\n",
    "    '''This function give graph from each palindrome (consider as Node) to another palindrome.\n",
    "    There is no path between palindrome having Exclusive(X) relation.\n",
    "    Rerurns dictionary which has Node as key and list of paths from that node as list'''\n",
    "    #palindrome = palindromes()\n",
    "    #print(len(palindrome))\n",
    "    graph = {}\n",
    "    ## itirates through each element in the palindromes list\n",
    "    ## note that palindromes is a list of lists\n",
    "    for i in range(len(palindrome)):\n",
    "        ## empty list for each list in palindrome\n",
    "        path = []\n",
    "        ## itirates through palindome iteration\n",
    "        for j in range(i,len(palindrome)):\n",
    "            r = relation(palindrome[i],palindrome[j])\n",
    "            if r != 'X':\n",
    "                path.append(j)\n",
    "                graph[i] = path\n",
    "            else:\n",
    "                graph[i] = path\n",
    "    return graph\n",
    "test_graph = pgraph(graph_data)\n",
    "test_graph2 = pgraph(graph_data2)\n",
    "test_graph3 = pgraph(graph_data3)\n",
    "test_graph4 = pgraph(graph_data4)\n",
    "test_graph5 = pgraph(graph_data5)\n",
    "print(test_graph)\n",
    "print(test_graph2)\n",
    "print(test_graph3)\n",
    "# print(graph_data)\n",
    "# print(len(test_graph), len(graph_data))"
   ]
  },
  {
   "cell_type": "code",
   "execution_count": 18,
   "metadata": {},
   "outputs": [
    {
     "name": "stdout",
     "output_type": "stream",
     "text": [
      "[[0, 2, 7], [0, 2, 8], [0, 2, 9], [0, 2, 10], [0, 3, 7], [0, 3, 8], [0, 3, 9], [0, 3, 10], [0, 4, 7], [0, 4, 8], [0, 4, 9], [0, 4, 10], [0, 5, 7], [0, 5, 8], [0, 5, 9], [0, 5, 10], [0, 6, 7], [0, 6, 8], [0, 6, 9], [0, 6, 10], [0, 7], [0, 8], [0, 9], [0, 10]]\n",
      "[[0, 4, 6], [0, 5], [0, 6]]\n",
      "[[0, 14], [0, 15], [0, 16]]\n"
     ]
    }
   ],
   "source": [
    "def path(graph,start,p=[]):\n",
    "    '''This function give complete paths from each pallindrome'''\n",
    "    p = p + [start]\n",
    "    if graph[start] == []:\n",
    "        return [p]\n",
    "    paths = []\n",
    "    for node in graph[start]:\n",
    "        if node not in p:\n",
    "            new_paths = path(graph,node,p)\n",
    "            for new_path in new_paths:\n",
    "                paths.append(new_path)\n",
    "    return paths\n",
    "test_path = path(test_graph, 0)\n",
    "test_path2 = path(test_graph2, 0)\n",
    "test_path3 = path(test_graph3, 0)\n",
    "test_path4 = path(test_graph4, 0)\n",
    "test_path5 = path(test_graph5, 0)\n",
    "print(test_path)\n",
    "print(test_path2)\n",
    "print(test_path3)"
   ]
  },
  {
   "cell_type": "code",
   "execution_count": 19,
   "metadata": {},
   "outputs": [
    {
     "name": "stdout",
     "output_type": "stream",
     "text": [
      "[0, 2, 7]\n",
      "[0, 4, 6]\n",
      "[0, 14]\n"
     ]
    }
   ],
   "source": [
    "def dag(paths):\n",
    "    for p in sorted(paths):\n",
    "        for j in range(len(paths)-1):\n",
    "            if set(p) < set(paths[j]):\n",
    "                try:\n",
    "                    paths.remove(p)\n",
    "                    #da_graph = paths\n",
    "                except:\n",
    "                    next\n",
    "                    continue\n",
    "    return max(paths, key=len)\n",
    "dagged_data = dag(test_path)\n",
    "dagged_data2 = dag(test_path2)\n",
    "dagged_data3 = dag(test_path3)\n",
    "dagged_data4 = dag(test_path4)\n",
    "dagged_data5 = dag(test_path5)\n",
    "print(dagged_data)\n",
    "print(dagged_data2)\n",
    "print(dagged_data3)"
   ]
  },
  {
   "cell_type": "code",
   "execution_count": 20,
   "metadata": {},
   "outputs": [
    {
     "name": "stdout",
     "output_type": "stream",
     "text": [
      "[168] [168] [741] [168] [741]\n"
     ]
    }
   ],
   "source": [
    "def fingerprint(da_graph,palindrome):\n",
    "    '''This function provides a fingerprint for path from each node. We use hashlib to convert\n",
    "    character presenting relation into a hash number'''\n",
    "    paths_fingerprint = []\n",
    "    i =0\n",
    "    fp = ''\n",
    "    while i<len(da_graph)-1:\n",
    "        fp += relation(palindrome[i],palindrome[i+1])\n",
    "        i += 1\n",
    "    bfp = fp.encode('utf-8')                            #turn string into byte string\n",
    "    hfp = hashlib.sha256(bfp)                           #turn bytes into hash object\n",
    "    index= int(hfp.hexdigest(), 16) % 10**3\n",
    "    paths_fingerprint.append(index)\n",
    "    return paths_fingerprint\n",
    "fingerprints = fingerprint(dagged_data, graph_data)\n",
    "fingerprints2 = fingerprint(dagged_data2, graph_data2)\n",
    "fingerprints3 = fingerprint(dagged_data3, graph_data3)\n",
    "fingerprints4 = fingerprint(dagged_data4, graph_data4)\n",
    "fingerprints5 = fingerprint(dagged_data5, graph_data5)\n",
    "print(fingerprints, fingerprints2, fingerprints3, fingerprints4, fingerprints5)"
   ]
  },
  {
   "cell_type": "code",
   "execution_count": 21,
   "metadata": {},
   "outputs": [],
   "source": [
    "simple_data = open(\"../hairpins_noreverse.out\")"
   ]
  },
  {
   "cell_type": "code",
   "execution_count": 22,
   "metadata": {},
   "outputs": [
    {
     "name": "stdout",
     "output_type": "stream",
     "text": [
      ">NC_000913.3:c645003-644197 rna [organism=Escherichia coli str. K-12 substr. MG1655] [GeneID=949065] [chromosome=] FORWARD\n",
      " 3.9       1 ..      11   xxxxxxxxxxxxxxx                -ATG AAAG CATT                 CTGGCGTAACGCCGC\n",
      " 3.9       2 ..      12   xxxxxxxxxxxxxxA                TGAA AGCA TTC-                 TGGCGTAACGCCGCG\n",
      " 1.4       2 ..      13   xxxxxxxxxxxxxxA                TGAA AGCA TTCT                 GGCGTAACGCCGCGT\n",
      " 4.9       1 ..      14   xxxxxxxxxxxxxxx               ATGAA AGCA TTCTG                GCGTAACGCCGCGTT\n",
      " 5.8       4 ..      15   xxxxxxxxxxxxATG                AAAG CATT CTGG                 CGTAACGCCGCGTTG\n",
      " 3.5       3 ..      16   xxxxxxxxxxxxxAT               GAAAG CATT CTGGC                GTAACGCCGCGTTGC\n",
      " 2.9       6 ..      17   xxxxxxxxxxATGAA                AGC ATTCTG GCG                 TAACGCCGCGTTGCT\n",
      "   2       5 ..      18   xxxxxxxxxxxATGA               AAGC ATTCTG GCGT                AACGCCGCGTTGCTC\n",
      " 5.5       4 ..      19   xxxxxxxxxxxxATG              AAAGC ATTCTG GCGTA               ACGCCGCGTTGCTCG\n",
      " 3.2      10 ..      20   xxxxxxATGAAAGCA                 TT CTGGCGT AA                 CGCCGCGTTGCTCGC\n",
      " 6.7       9 ..      21   xxxxxxxATGAAAGC                ATT CTGGCGT AAC                GCCGCGTTGCTCGCG\n",
      " 4.4       8 ..      22   xxxxxxxxATGAAAG               CATT CTGGCGT AACG               CCGCGTTGCTCGCGG\n",
      " 2.1       7 ..      23   xxxxxxxxxATGAAA              GCATT CTGGCGT AACGC              CGCGTTGCTCGCGGT\n",
      "-8.2      14 ..      24   xxATGAAAGCATTCT                 GGCG TAA CGCC                 GCGTTGCTCGCGGTT\n",
      "-6.9      13 ..      25   xxxATGAAAGCATTC                TGGCG TAA CGCCG                CGTTGCTCGCGGTTT\n",
      "-3.4      12 ..      26   xxxxATGAAAGCATT               CTGGCG TAA CGCCGC               GTTGCTCGCGGTTTC\n",
      "-3.2      12 ..      27   xxxxATGAAAGCATT              C-TGGCG TAA CGCCGCG              TTGCTCGCGGTTTCT\n",
      "-0.6       9 ..      28   xxxxxxxATGAAAGC            ATTCTGGCG TAA CGCC-GCGT            TGCTCGCGGTTTCTC\n",
      "-5.4      19 ..      29   AAAGCATTCTGGCGT                 AACG CCG CGTT                 GCTCGCGGTTTCTCT\n",
      "-4.1      18 ..      30   GAAAGCATTCTGGCG                TAACG CCG CGTTG                CTCGCGGTTTCTCTG\n",
      "-6.4      17 ..      31   TGAAAGCATTCTGGC               GTAACG CCG CGTTGC               TCGCGGTTTCTCTGC\n",
      "  -5       6 ..      32   xxxxxxxxxxATGAA         AGCATTCTGGCG TAA CGCCGCGTTGCT         CGCGGTTTCTCTGCT\n",
      "-5.2      15 ..      33   xATGAAAGCATTCTG             GCGTAACG CCG CGTTGCTC             GCGGTTTCTCTGCTT\n",
      "-2.4      24 ..      34   ATTCTGGCGTAACGC                 CGCG TTG CTCG                 CGGTTTCTCTGCTTC\n",
      "-3.9      25 ..      35   TTCTGGCGTAACGCC                 GCG TTGCT CGC                 GGTTTCTCTGCTTCC\n",
      "-6.2      24 ..      36   ATTCTGGCGTAACGC                CGCG TTGCT CGCG                GTTTCTCTGCTTCCC\n",
      "-8.5      23 ..      37   CATTCTGGCGTAACG               CCGCG TTGCT CGCGG               TTTCTCTGCTTCCCT\n",
      "-7.2      22 ..      38   GCATTCTGGCGTAAC              GCCGCG TTGCT CGCGGT              TTCTCTGCTTCCCTT\n",
      "-3.7      21 ..      39   AGCATTCTGGCGTAA             CGCCGCG TTGCT CGCGGTT             TCTCTGCTTCCCTTC\n",
      "-4.6      20 ..      40   AAGCATTCTGGCGTA            ACGCCGCG TTGCT CGCGGTTT            CTCTGCTTCCCTTCT\n",
      "-1.1      19 ..      41   AAAGCATTCTGGCGT           AACGCCGCG TTGCT CGCGGTTTC           TCTGCTTCCCTTCTC\n",
      " 0.5      19 ..      42   AAAGCATTCTGGCGT          A-ACGCCGCG TTGCT CGCGGTTTCT          CTGCTTCCCTTCTCT\n",
      " 0.1      17 ..      43   TGAAAGCATTCTGGC         GTAACGCCGCG TTGCT CGCGGTTTCTC         TGCTTCCCTTCTCTT\n",
      " 3.2      14 ..      44   xxATGAAAGCATTCT      GGCGTAACGCCGCG TTGCT CGCGGT-TT-CTCT      GCTTCCCTTCTCTTC\n",
      "-0.3      35 ..      45   ACGCCGCGTTGCTCG                 CGG TTTCT CTG                 CTTCCCTTCTCTTCT\n",
      "-2.6      34 ..      46   AACGCCGCGTTGCTC                GCGG TTTCT CTGC                TTCCCTTCTCTTCTG\n",
      " 0.9      33 ..      47   TAACGCCGCGTTGCT               CGCGG TTTCT CTGCT               TCCCTTCTCTTCTGC\n",
      " 4.4      32 ..      48   GTAACGCCGCGTTGC              TCGCGG TTTCT CTGCTT              CCCTTCTCTTCTGCC\n",
      " 5.5      34 ..      49   AACGCCGCGTTGCTC              GCGGT TTCTCT GCTTC               CCTTCTCTTCTGCCA\n",
      " 4.4      36 ..      50   CGCCGCGTTGCTCGC               GG TTTCTCTGCTT CC               CTTCTCTTCTGCCAA\n",
      " 5.4      36 ..      51   CGCCGCGTTGCTCGC              GG TTTCTCTGCTTC CC               TTCTCTTCTGCCAAC\n",
      " 8.9      35 ..      52   ACGCCGCGTTGCTCG             CGG TTTCTCTGCTTC CCT              TCTCTTCTGCCAACG\n",
      " 7.7      43 ..      53   TTGCTCGCGGTTTCT                 CTG CTTCC CTT                 CTCTTCTGCCAACGC\n",
      "None      44 ..      54   TGCTCGCGGTTTCTC                  TGCTTCCCTTC                  TCTTCTGCCAACGCC\n",
      " 7.2      44 ..      55   TGCTCGCGGTTTCTC                TG CTTCCCTT CT                 CTTCTGCCAACGCCT\n",
      " 5.7      45 ..      56   GCTCGCGGTTTCTCT                G CTTCCCTTCT C                 TTCTGCCAACGCCTx\n",
      "None      47 ..      57   TCGCGGTTTCTCTGC                  TTCCCTTCTCT                  TCTGCCAACGCCTxx\n",
      "None      48 ..      58   CGCGGTTTCTCTGCT                  TCCCTTCTCTT                  CTGCCAACGCCTxxx\n",
      " 8.7      45 ..      59   GCTCGCGGTTTCTCT               G CTTCCCTTCTCTT C               TGCCAACGCCTxxxx\n",
      "None      50 ..      60   CGGTTTCTCTGCTTC                  CCTTCTCTTCT                  GCCAACGCCTxxxxx\n",
      " 4.7      51 ..      61   GGTTTCTCTGCTTCC                 C TTCTCTTCT G                 CCAACGCCTxxxxxx\n",
      " 8.2      50 ..      62   CGGTTTCTCTGCTTC                CC TTCTCTTCT GC                CAACGCCTxxxxxxx\n",
      " 8.7      52 ..      63   GTTTCTCTGCTTCCC                TTC TCTTCT GCC                 AACGCCTxxxxxxxx\n",
      " 5.8      53 ..      64   TTTCTCTGCTTCCCT                TCTC TTCT GCCA                 ACGCCTxxxxxxxxx\n",
      " 4.9      52 ..      65   GTTTCTCTGCTTCCC               TTCTC TTCT GCCAA                CGCCTxxxxxxxxxx\n",
      " 4.7      56 ..      66   CTCTGCTTCCCTTCT                 CTT CTGCC AAC                 GCCTxxxxxxxxxxx\n",
      " 4.3      56 ..      67   CTCTGCTTCCCTTCT                CTT CTGCCA ACG                 CCTxxxxxxxxxxxx\n",
      " 6.2      58 ..      68   CTGCTTCCCTTCTCT                 TC TGCCAAC GC                 CTxxxxxxxxxxxxx\n",
      " 6.9      59 ..      69   TGCTTCCCTTCTCTT                CTGC CAAC GCC-                 Txxxxxxxxxxxxxx\n",
      "\n"
     ]
    }
   ],
   "source": [
    "print(simple_data.read())"
   ]
  },
  {
   "cell_type": "code",
   "execution_count": 23,
   "metadata": {},
   "outputs": [],
   "source": [
    "# shuffle sequences from rfam family\n",
    "# to introduce randomness "
   ]
  },
  {
   "cell_type": "code",
   "execution_count": 24,
   "metadata": {},
   "outputs": [],
   "source": [
    "## creation of fake families, get a distribution of how non-meaninful data would look like.\n",
    "## "
   ]
  },
  {
   "cell_type": "code",
   "execution_count": 25,
   "metadata": {},
   "outputs": [
    {
     "name": "stdout",
     "output_type": "stream",
     "text": [
      "<class 'range'>\n"
     ]
    }
   ],
   "source": [
    "print(type(range(10)))"
   ]
  },
  {
   "cell_type": "code",
   "execution_count": 26,
   "metadata": {},
   "outputs": [
    {
     "data": {
      "text/plain": [
       "[[12, 17, 21, 26], [14, 17, 21, 24]]"
      ]
     },
     "execution_count": 26,
     "metadata": {},
     "output_type": "execute_result"
    }
   ],
   "source": [
    "a = [12, 17, 21, 26]\n",
    "b = [14, 17, 21, 24]\n",
    "relation(a, b)\n",
    "c = [a, b]\n",
    "c"
   ]
  },
  {
   "cell_type": "code",
   "execution_count": 27,
   "metadata": {},
   "outputs": [
    {
     "data": {
      "text/plain": [
       "{0: [], 1: []}"
      ]
     },
     "execution_count": 27,
     "metadata": {},
     "output_type": "execute_result"
    }
   ],
   "source": [
    "pgraph(c)"
   ]
  },
  {
   "cell_type": "code",
   "execution_count": 28,
   "metadata": {},
   "outputs": [
    {
     "data": {
      "text/plain": [
       "[549]"
      ]
     },
     "execution_count": 28,
     "metadata": {},
     "output_type": "execute_result"
    }
   ],
   "source": [
    "fingerprint(dag(path(pgraph(c), 0)), c)"
   ]
  },
  {
   "cell_type": "code",
   "execution_count": 29,
   "metadata": {},
   "outputs": [
    {
     "data": {
      "text/plain": [
       "False"
      ]
     },
     "execution_count": 29,
     "metadata": {},
     "output_type": "execute_result"
    }
   ],
   "source": [
    "set([0,1,2])<set([10])"
   ]
  },
  {
   "cell_type": "code",
   "execution_count": 30,
   "metadata": {},
   "outputs": [
    {
     "data": {
      "text/plain": [
       "3"
      ]
     },
     "execution_count": 30,
     "metadata": {},
     "output_type": "execute_result"
    }
   ],
   "source": [
    "len(set([0,2,7]))"
   ]
  },
  {
   "cell_type": "code",
   "execution_count": 31,
   "metadata": {},
   "outputs": [
    {
     "data": {
      "text/plain": [
       "True"
      ]
     },
     "execution_count": 31,
     "metadata": {},
     "output_type": "execute_result"
    }
   ],
   "source": [
    "{0, 2, 7}>={0,2}"
   ]
  },
  {
   "cell_type": "code",
   "execution_count": 32,
   "metadata": {},
   "outputs": [
    {
     "data": {
      "text/plain": [
       "False"
      ]
     },
     "execution_count": 32,
     "metadata": {},
     "output_type": "execute_result"
    }
   ],
   "source": [
    "{'C', 'F'} > {'C', 'F'}"
   ]
  },
  {
   "cell_type": "code",
   "execution_count": 33,
   "metadata": {},
   "outputs": [
    {
     "data": {
      "text/plain": [
       "False"
      ]
     },
     "execution_count": 33,
     "metadata": {},
     "output_type": "execute_result"
    }
   ],
   "source": [
    "set([0,2,7]) <= set([0,2])"
   ]
  },
  {
   "cell_type": "code",
   "execution_count": 34,
   "metadata": {},
   "outputs": [
    {
     "data": {
      "text/plain": [
       "True"
      ]
     },
     "execution_count": 34,
     "metadata": {},
     "output_type": "execute_result"
    }
   ],
   "source": [
    "set([7]) <= set([0,2,7])"
   ]
  },
  {
   "cell_type": "code",
   "execution_count": null,
   "metadata": {},
   "outputs": [],
   "source": []
  }
 ],
 "metadata": {
  "kernelspec": {
   "display_name": "base",
   "language": "python",
   "name": "python3"
  },
  "language_info": {
   "codemirror_mode": {
    "name": "ipython",
    "version": 3
   },
   "file_extension": ".py",
   "mimetype": "text/x-python",
   "name": "python",
   "nbconvert_exporter": "python",
   "pygments_lexer": "ipython3",
   "version": "3.9.7"
  },
  "orig_nbformat": 4
 },
 "nbformat": 4,
 "nbformat_minor": 2
}
